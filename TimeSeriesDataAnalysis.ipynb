{
  "nbformat": 4,
  "nbformat_minor": 0,
  "metadata": {
    "colab": {
      "provenance": []
    },
    "kernelspec": {
      "name": "python3",
      "display_name": "Python 3"
    },
    "language_info": {
      "name": "python"
    }
  },
  "cells": [
    {
      "cell_type": "markdown",
      "source": [
        "# **Time Series Analysis and Prediction**"
      ],
      "metadata": {
        "id": "bLUK1zKdOXQl"
      }
    },
    {
      "cell_type": "code",
      "source": [
        "!pip install statsmodels\n",
        "!pip install pmdarima --upgrade"
      ],
      "metadata": {
        "id": "a7tor9YQi7hQ",
        "colab": {
          "base_uri": "https://localhost:8080/"
        },
        "outputId": "debfc535-39b7-449d-817b-0b0a9356d1fa"
      },
      "execution_count": null,
      "outputs": [
        {
          "output_type": "stream",
          "name": "stdout",
          "text": [
            "Looking in indexes: https://pypi.org/simple, https://us-python.pkg.dev/colab-wheels/public/simple/\n",
            "Requirement already satisfied: statsmodels in /usr/local/lib/python3.8/dist-packages (0.13.5)\n",
            "Requirement already satisfied: packaging>=21.3 in /usr/local/lib/python3.8/dist-packages (from statsmodels) (23.0)\n",
            "Requirement already satisfied: numpy>=1.17 in /usr/local/lib/python3.8/dist-packages (from statsmodels) (1.22.4)\n",
            "Requirement already satisfied: scipy>=1.3 in /usr/local/lib/python3.8/dist-packages (from statsmodels) (1.10.1)\n",
            "Requirement already satisfied: patsy>=0.5.2 in /usr/local/lib/python3.8/dist-packages (from statsmodels) (0.5.3)\n",
            "Requirement already satisfied: pandas>=0.25 in /usr/local/lib/python3.8/dist-packages (from statsmodels) (1.3.5)\n",
            "Requirement already satisfied: pytz>=2017.3 in /usr/local/lib/python3.8/dist-packages (from pandas>=0.25->statsmodels) (2022.7.1)\n",
            "Requirement already satisfied: python-dateutil>=2.7.3 in /usr/local/lib/python3.8/dist-packages (from pandas>=0.25->statsmodels) (2.8.2)\n",
            "Requirement already satisfied: six in /usr/local/lib/python3.8/dist-packages (from patsy>=0.5.2->statsmodels) (1.15.0)\n",
            "Looking in indexes: https://pypi.org/simple, https://us-python.pkg.dev/colab-wheels/public/simple/\n",
            "Collecting pmdarima\n",
            "  Downloading pmdarima-2.0.2-cp38-cp38-manylinux_2_17_x86_64.manylinux2014_x86_64.manylinux_2_28_x86_64.whl (1.9 MB)\n",
            "\u001b[2K     \u001b[90m━━━━━━━━━━━━━━━━━━━━━━━━━━━━━━━━━━━━━━━━\u001b[0m \u001b[32m1.9/1.9 MB\u001b[0m \u001b[31m12.9 MB/s\u001b[0m eta \u001b[36m0:00:00\u001b[0m\n",
            "\u001b[?25hRequirement already satisfied: pandas>=0.19 in /usr/local/lib/python3.8/dist-packages (from pmdarima) (1.3.5)\n",
            "Requirement already satisfied: scikit-learn>=0.22 in /usr/local/lib/python3.8/dist-packages (from pmdarima) (1.2.1)\n",
            "Requirement already satisfied: statsmodels>=0.13.2 in /usr/local/lib/python3.8/dist-packages (from pmdarima) (0.13.5)\n",
            "Requirement already satisfied: Cython!=0.29.18,!=0.29.31,>=0.29 in /usr/local/lib/python3.8/dist-packages (from pmdarima) (0.29.33)\n",
            "Requirement already satisfied: numpy>=1.21.2 in /usr/local/lib/python3.8/dist-packages (from pmdarima) (1.22.4)\n",
            "Requirement already satisfied: urllib3 in /usr/local/lib/python3.8/dist-packages (from pmdarima) (1.26.14)\n",
            "Requirement already satisfied: scipy>=1.3.2 in /usr/local/lib/python3.8/dist-packages (from pmdarima) (1.10.1)\n",
            "Requirement already satisfied: setuptools!=50.0.0,>=38.6.0 in /usr/local/lib/python3.8/dist-packages (from pmdarima) (57.4.0)\n",
            "Requirement already satisfied: joblib>=0.11 in /usr/local/lib/python3.8/dist-packages (from pmdarima) (1.2.0)\n",
            "Requirement already satisfied: pytz>=2017.3 in /usr/local/lib/python3.8/dist-packages (from pandas>=0.19->pmdarima) (2022.7.1)\n",
            "Requirement already satisfied: python-dateutil>=2.7.3 in /usr/local/lib/python3.8/dist-packages (from pandas>=0.19->pmdarima) (2.8.2)\n",
            "Requirement already satisfied: threadpoolctl>=2.0.0 in /usr/local/lib/python3.8/dist-packages (from scikit-learn>=0.22->pmdarima) (3.1.0)\n",
            "Requirement already satisfied: patsy>=0.5.2 in /usr/local/lib/python3.8/dist-packages (from statsmodels>=0.13.2->pmdarima) (0.5.3)\n",
            "Requirement already satisfied: packaging>=21.3 in /usr/local/lib/python3.8/dist-packages (from statsmodels>=0.13.2->pmdarima) (23.0)\n",
            "Requirement already satisfied: six in /usr/local/lib/python3.8/dist-packages (from patsy>=0.5.2->statsmodels>=0.13.2->pmdarima) (1.15.0)\n",
            "Installing collected packages: pmdarima\n",
            "Successfully installed pmdarima-2.0.2\n"
          ]
        }
      ]
    },
    {
      "cell_type": "code",
      "source": [
        "#imports\n",
        "import math\n",
        "import numpy as np\n",
        "import pandas as pd\n",
        "import matplotlib.pyplot as plt\n",
        "import seaborn as sns\n",
        "from statsmodels.tsa.seasonal import seasonal_decompose"
      ],
      "metadata": {
        "id": "EFt0zQLQM5PY"
      },
      "execution_count": null,
      "outputs": []
    },
    {
      "cell_type": "markdown",
      "source": [
        "## **Application 1: Deman Forecasting (Air Passenger)**"
      ],
      "metadata": {
        "id": "3Vxt0tWZFGQA"
      }
    },
    {
      "cell_type": "markdown",
      "source": [
        "**Data Preprocessing**"
      ],
      "metadata": {
        "id": "s0VmPe69Fpr5"
      }
    },
    {
      "cell_type": "code",
      "source": [
        "#upload airPassengers.cvs\n",
        "\n",
        "airpass=pd.read_csv(\"/content/AirPassengers.csv\")\n",
        "airpass.shape"
      ],
      "metadata": {
        "id": "veDq2DtHTyUl",
        "colab": {
          "base_uri": "https://localhost:8080/"
        },
        "outputId": "79008397-4010-497c-fe9b-80f36ea37d1b"
      },
      "execution_count": null,
      "outputs": [
        {
          "output_type": "execute_result",
          "data": {
            "text/plain": [
              "(144, 2)"
            ]
          },
          "metadata": {},
          "execution_count": 52
        }
      ]
    },
    {
      "cell_type": "code",
      "source": [
        "plt.style.use('dark_background')"
      ],
      "metadata": {
        "id": "wLDo2ijQH6-T"
      },
      "execution_count": null,
      "outputs": []
    },
    {
      "cell_type": "code",
      "source": [
        "#change column name\n",
        "airpass.rename(columns = {'Month':'Date','#Passengers':'Passengers'}, inplace = True)\n",
        "#convert date datatype to date\n",
        "airpass['Date'] = pd.to_datetime(airpass['Date'])\n",
        "\n",
        "#changing index\n",
        "airpass.set_index('Date', inplace=True)\n",
        "\n",
        "airpass.head()"
      ],
      "metadata": {
        "colab": {
          "base_uri": "https://localhost:8080/",
          "height": 238
        },
        "id": "cu6h9_8JFtL1",
        "outputId": "1de986a6-9a67-4dbf-b92e-29c7d7ba6efd"
      },
      "execution_count": null,
      "outputs": [
        {
          "output_type": "execute_result",
          "data": {
            "text/plain": [
              "            Passengers\n",
              "Date                  \n",
              "1949-01-01         112\n",
              "1949-02-01         118\n",
              "1949-03-01         132\n",
              "1949-04-01         129\n",
              "1949-05-01         121"
            ],
            "text/html": [
              "\n",
              "  <div id=\"df-f7e6cf80-62c3-4bb1-88f3-5528bf13053c\">\n",
              "    <div class=\"colab-df-container\">\n",
              "      <div>\n",
              "<style scoped>\n",
              "    .dataframe tbody tr th:only-of-type {\n",
              "        vertical-align: middle;\n",
              "    }\n",
              "\n",
              "    .dataframe tbody tr th {\n",
              "        vertical-align: top;\n",
              "    }\n",
              "\n",
              "    .dataframe thead th {\n",
              "        text-align: right;\n",
              "    }\n",
              "</style>\n",
              "<table border=\"1\" class=\"dataframe\">\n",
              "  <thead>\n",
              "    <tr style=\"text-align: right;\">\n",
              "      <th></th>\n",
              "      <th>Passengers</th>\n",
              "    </tr>\n",
              "    <tr>\n",
              "      <th>Date</th>\n",
              "      <th></th>\n",
              "    </tr>\n",
              "  </thead>\n",
              "  <tbody>\n",
              "    <tr>\n",
              "      <th>1949-01-01</th>\n",
              "      <td>112</td>\n",
              "    </tr>\n",
              "    <tr>\n",
              "      <th>1949-02-01</th>\n",
              "      <td>118</td>\n",
              "    </tr>\n",
              "    <tr>\n",
              "      <th>1949-03-01</th>\n",
              "      <td>132</td>\n",
              "    </tr>\n",
              "    <tr>\n",
              "      <th>1949-04-01</th>\n",
              "      <td>129</td>\n",
              "    </tr>\n",
              "    <tr>\n",
              "      <th>1949-05-01</th>\n",
              "      <td>121</td>\n",
              "    </tr>\n",
              "  </tbody>\n",
              "</table>\n",
              "</div>\n",
              "      <button class=\"colab-df-convert\" onclick=\"convertToInteractive('df-f7e6cf80-62c3-4bb1-88f3-5528bf13053c')\"\n",
              "              title=\"Convert this dataframe to an interactive table.\"\n",
              "              style=\"display:none;\">\n",
              "        \n",
              "  <svg xmlns=\"http://www.w3.org/2000/svg\" height=\"24px\"viewBox=\"0 0 24 24\"\n",
              "       width=\"24px\">\n",
              "    <path d=\"M0 0h24v24H0V0z\" fill=\"none\"/>\n",
              "    <path d=\"M18.56 5.44l.94 2.06.94-2.06 2.06-.94-2.06-.94-.94-2.06-.94 2.06-2.06.94zm-11 1L8.5 8.5l.94-2.06 2.06-.94-2.06-.94L8.5 2.5l-.94 2.06-2.06.94zm10 10l.94 2.06.94-2.06 2.06-.94-2.06-.94-.94-2.06-.94 2.06-2.06.94z\"/><path d=\"M17.41 7.96l-1.37-1.37c-.4-.4-.92-.59-1.43-.59-.52 0-1.04.2-1.43.59L10.3 9.45l-7.72 7.72c-.78.78-.78 2.05 0 2.83L4 21.41c.39.39.9.59 1.41.59.51 0 1.02-.2 1.41-.59l7.78-7.78 2.81-2.81c.8-.78.8-2.07 0-2.86zM5.41 20L4 18.59l7.72-7.72 1.47 1.35L5.41 20z\"/>\n",
              "  </svg>\n",
              "      </button>\n",
              "      \n",
              "  <style>\n",
              "    .colab-df-container {\n",
              "      display:flex;\n",
              "      flex-wrap:wrap;\n",
              "      gap: 12px;\n",
              "    }\n",
              "\n",
              "    .colab-df-convert {\n",
              "      background-color: #E8F0FE;\n",
              "      border: none;\n",
              "      border-radius: 50%;\n",
              "      cursor: pointer;\n",
              "      display: none;\n",
              "      fill: #1967D2;\n",
              "      height: 32px;\n",
              "      padding: 0 0 0 0;\n",
              "      width: 32px;\n",
              "    }\n",
              "\n",
              "    .colab-df-convert:hover {\n",
              "      background-color: #E2EBFA;\n",
              "      box-shadow: 0px 1px 2px rgba(60, 64, 67, 0.3), 0px 1px 3px 1px rgba(60, 64, 67, 0.15);\n",
              "      fill: #174EA6;\n",
              "    }\n",
              "\n",
              "    [theme=dark] .colab-df-convert {\n",
              "      background-color: #3B4455;\n",
              "      fill: #D2E3FC;\n",
              "    }\n",
              "\n",
              "    [theme=dark] .colab-df-convert:hover {\n",
              "      background-color: #434B5C;\n",
              "      box-shadow: 0px 1px 3px 1px rgba(0, 0, 0, 0.15);\n",
              "      filter: drop-shadow(0px 1px 2px rgba(0, 0, 0, 0.3));\n",
              "      fill: #FFFFFF;\n",
              "    }\n",
              "  </style>\n",
              "\n",
              "      <script>\n",
              "        const buttonEl =\n",
              "          document.querySelector('#df-f7e6cf80-62c3-4bb1-88f3-5528bf13053c button.colab-df-convert');\n",
              "        buttonEl.style.display =\n",
              "          google.colab.kernel.accessAllowed ? 'block' : 'none';\n",
              "\n",
              "        async function convertToInteractive(key) {\n",
              "          const element = document.querySelector('#df-f7e6cf80-62c3-4bb1-88f3-5528bf13053c');\n",
              "          const dataTable =\n",
              "            await google.colab.kernel.invokeFunction('convertToInteractive',\n",
              "                                                     [key], {});\n",
              "          if (!dataTable) return;\n",
              "\n",
              "          const docLinkHtml = 'Like what you see? Visit the ' +\n",
              "            '<a target=\"_blank\" href=https://colab.research.google.com/notebooks/data_table.ipynb>data table notebook</a>'\n",
              "            + ' to learn more about interactive tables.';\n",
              "          element.innerHTML = '';\n",
              "          dataTable['output_type'] = 'display_data';\n",
              "          await google.colab.output.renderOutput(dataTable, element);\n",
              "          const docLink = document.createElement('div');\n",
              "          docLink.innerHTML = docLinkHtml;\n",
              "          element.appendChild(docLink);\n",
              "        }\n",
              "      </script>\n",
              "    </div>\n",
              "  </div>\n",
              "  "
            ]
          },
          "metadata": {},
          "execution_count": 53
        }
      ]
    },
    {
      "cell_type": "markdown",
      "source": [
        "### **Time Series EDA**"
      ],
      "metadata": {
        "id": "h0TMMNuGOgox"
      }
    },
    {
      "cell_type": "code",
      "source": [
        "#plotting passangers over date\n",
        "plt.plot(airpass['Passengers'])"
      ],
      "metadata": {
        "colab": {
          "base_uri": "https://localhost:8080/",
          "height": 283
        },
        "id": "gHNzboSIFXpu",
        "outputId": "25652f3e-d0ff-40a8-bbb4-3e6cd70738e7"
      },
      "execution_count": null,
      "outputs": [
        {
          "output_type": "execute_result",
          "data": {
            "text/plain": [
              "[<matplotlib.lines.Line2D at 0x7f0175250b80>]"
            ]
          },
          "metadata": {},
          "execution_count": 54
        },
        {
          "output_type": "display_data",
          "data": {
            "text/plain": [
              "<Figure size 432x288 with 1 Axes>"
            ],
            "image/png": "[encoded data removed]"
          },
          "metadata": {}
        }
      ]
    },
    {
      "cell_type": "markdown",
      "source": [
        "**Check if Data is stationary?**"
      ],
      "metadata": {
        "id": "NAgWlCglMyjW"
      }
    },
    {
      "cell_type": "code",
      "source": [
        "#Dickey-Fuller test\n",
        "from statsmodels.tsa.stattools import adfuller\n",
        "adf, pvalue, usedlag_, nobs_, critical_values_, icbest_ = adfuller(airpass)\n",
        "print(\"pvalue = \", pvalue, \" if above 0.05, data is not stationary\")\n",
        "#Since data is not stationary, we may need SARIMA and not just ARIMA"
      ],
      "metadata": {
        "colab": {
          "base_uri": "https://localhost:8080/"
        },
        "id": "pc_QIPOtObUA",
        "outputId": "cfaa9064-c54f-4102-ef2a-ecd4e2e6af1f"
      },
      "execution_count": null,
      "outputs": [
        {
          "output_type": "stream",
          "name": "stdout",
          "text": [
            "pvalue =  0.991880243437641  if above 0.05, data is not stationary\n"
          ]
        }
      ]
    },
    {
      "cell_type": "markdown",
      "source": [
        "**Extract and plot trend, seasonal and residuals.**"
      ],
      "metadata": {
        "id": "qAvEdodaOT6A"
      }
    },
    {
      "cell_type": "code",
      "source": [
        "from statsmodels.tsa.seasonal import seasonal_decompose\n",
        "\n",
        "\n",
        "decomposed = seasonal_decompose(airpass['Passengers'],  model ='additive') #try model=Multiplicative\n",
        "\n",
        "trend = decomposed.trend #there is positive growth trend\n",
        "seasonal = decomposed.seasonal #the graph shows the cycle is yearly\n",
        "residual = decomposed.resid #this is error so we should not see a pattern\n",
        "\n",
        "plt.figure(figsize=(12,8))\n",
        "plt.subplot(411)\n",
        "plt.plot(airpass['Passengers'], label='Original', color='yellow')\n",
        "plt.legend(loc='upper left')\n",
        "plt.subplot(412)\n",
        "plt.plot(trend, label='Trend', color='yellow')\n",
        "plt.legend(loc='upper left')\n",
        "plt.subplot(413)\n",
        "plt.plot(seasonal, label='Seasonal', color='yellow')\n",
        "plt.legend(loc='upper left')\n",
        "plt.subplot(414)\n",
        "plt.plot(residual, label='Residual', color='yellow')\n",
        "plt.legend(loc='upper left')\n",
        "plt.show()"
      ],
      "metadata": {
        "colab": {
          "base_uri": "https://localhost:8080/",
          "height": 483
        },
        "id": "2VdUOv9rOAJg",
        "outputId": "853e376b-2fe0-4827-ae34-ac6b28f42ae8"
      },
      "execution_count": null,
      "outputs": [
        {
          "output_type": "display_data",
          "data": {
            "text/plain": [
              "<Figure size 864x576 with 4 Axes>"
            ],
            "image/png": "[encoded data removed]"
          },
          "metadata": {}
        }
      ]
    },
    {
      "cell_type": "markdown",
      "source": [
        "**Finding Monthly trends**"
      ],
      "metadata": {
        "id": "sEh9s6CNVH4m"
      }
    },
    {
      "cell_type": "code",
      "source": [
        "#create a new dataframe years with month as rows\n",
        "years=pd.DataFrame(index=range(1,13)) #get 12 month as rows\n",
        "airpass=airpass.reset_index()\n",
        "\n",
        "#group by columns by year\n",
        "#create column for each year and destribute the values over months\n",
        "for name, year_df in airpass.groupby(airpass[\"Date\"].apply(lambda x: x.year)):\n",
        "  years[name]=year_df[\"Passengers\"].values\n",
        "\n",
        "years"
      ],
      "metadata": {
        "id": "rYbwGSzjX58u",
        "colab": {
          "base_uri": "https://localhost:8080/",
          "height": 426
        },
        "outputId": "3cddf71a-d48b-4871-d2a8-6fb8db9a4d20"
      },
      "execution_count": null,
      "outputs": [
        {
          "output_type": "execute_result",
          "data": {
            "text/plain": [
              "    1949  1950  1951  1952  1953  1954  1955  1956  1957  1958  1959  1960\n",
              "1    112   115   145   171   196   204   242   284   315   340   360   417\n",
              "2    118   126   150   180   196   188   233   277   301   318   342   391\n",
              "3    132   141   178   193   236   235   267   317   356   362   406   419\n",
              "4    129   135   163   181   235   227   269   313   348   348   396   461\n",
              "5    121   125   172   183   229   234   270   318   355   363   420   472\n",
              "6    135   149   178   218   243   264   315   374   422   435   472   535\n",
              "7    148   170   199   230   264   302   364   413   465   491   548   622\n",
              "8    148   170   199   242   272   293   347   405   467   505   559   606\n",
              "9    136   158   184   209   237   259   312   355   404   404   463   508\n",
              "10   119   133   162   191   211   229   274   306   347   359   407   461\n",
              "11   104   114   146   172   180   203   237   271   305   310   362   390\n",
              "12   118   140   166   194   201   229   278   306   336   337   405   432"
            ],
            "text/html": [
              "\n",
              "  <div id=\"df-4e95a684-bbf1-4b1e-8ec6-5a87508cc8a1\">\n",
              "    <div class=\"colab-df-container\">\n",
              "      <div>\n",
              "<style scoped>\n",
              "    .dataframe tbody tr th:only-of-type {\n",
              "        vertical-align: middle;\n",
              "    }\n",
              "\n",
              "    .dataframe tbody tr th {\n",
              "        vertical-align: top;\n",
              "    }\n",
              "\n",
              "    .dataframe thead th {\n",
              "        text-align: right;\n",
              "    }\n",
              "</style>\n",
              "<table border=\"1\" class=\"dataframe\">\n",
              "  <thead>\n",
              "    <tr style=\"text-align: right;\">\n",
              "      <th></th>\n",
              "      <th>1949</th>\n",
              "      <th>1950</th>\n",
              "      <th>1951</th>\n",
              "      <th>1952</th>\n",
              "      <th>1953</th>\n",
              "      <th>1954</th>\n",
              "      <th>1955</th>\n",
              "      <th>1956</th>\n",
              "      <th>1957</th>\n",
              "      <th>1958</th>\n",
              "      <th>1959</th>\n",
              "      <th>1960</th>\n",
              "    </tr>\n",
              "  </thead>\n",
              "  <tbody>\n",
              "    <tr>\n",
              "      <th>1</th>\n",
              "      <td>112</td>\n",
              "      <td>115</td>\n",
              "      <td>145</td>\n",
              "      <td>171</td>\n",
              "      <td>196</td>\n",
              "      <td>204</td>\n",
              "      <td>242</td>\n",
              "      <td>284</td>\n",
              "      <td>315</td>\n",
              "      <td>340</td>\n",
              "      <td>360</td>\n",
              "      <td>417</td>\n",
              "    </tr>\n",
              "    <tr>\n",
              "      <th>2</th>\n",
              "      <td>118</td>\n",
              "      <td>126</td>\n",
              "      <td>150</td>\n",
              "      <td>180</td>\n",
              "      <td>196</td>\n",
              "      <td>188</td>\n",
              "      <td>233</td>\n",
              "      <td>277</td>\n",
              "      <td>301</td>\n",
              "      <td>318</td>\n",
              "      <td>342</td>\n",
              "      <td>391</td>\n",
              "    </tr>\n",
              "    <tr>\n",
              "      <th>3</th>\n",
              "      <td>132</td>\n",
              "      <td>141</td>\n",
              "      <td>178</td>\n",
              "      <td>193</td>\n",
              "      <td>236</td>\n",
              "      <td>235</td>\n",
              "      <td>267</td>\n",
              "      <td>317</td>\n",
              "      <td>356</td>\n",
              "      <td>362</td>\n",
              "      <td>406</td>\n",
              "      <td>419</td>\n",
              "    </tr>\n",
              "    <tr>\n",
              "      <th>4</th>\n",
              "      <td>129</td>\n",
              "      <td>135</td>\n",
              "      <td>163</td>\n",
              "      <td>181</td>\n",
              "      <td>235</td>\n",
              "      <td>227</td>\n",
              "      <td>269</td>\n",
              "      <td>313</td>\n",
              "      <td>348</td>\n",
              "      <td>348</td>\n",
              "      <td>396</td>\n",
              "      <td>461</td>\n",
              "    </tr>\n",
              "    <tr>\n",
              "      <th>5</th>\n",
              "      <td>121</td>\n",
              "      <td>125</td>\n",
              "      <td>172</td>\n",
              "      <td>183</td>\n",
              "      <td>229</td>\n",
              "      <td>234</td>\n",
              "      <td>270</td>\n",
              "      <td>318</td>\n",
              "      <td>355</td>\n",
              "      <td>363</td>\n",
              "      <td>420</td>\n",
              "      <td>472</td>\n",
              "    </tr>\n",
              "    <tr>\n",
              "      <th>6</th>\n",
              "      <td>135</td>\n",
              "      <td>149</td>\n",
              "      <td>178</td>\n",
              "      <td>218</td>\n",
              "      <td>243</td>\n",
              "      <td>264</td>\n",
              "      <td>315</td>\n",
              "      <td>374</td>\n",
              "      <td>422</td>\n",
              "      <td>435</td>\n",
              "      <td>472</td>\n",
              "      <td>535</td>\n",
              "    </tr>\n",
              "    <tr>\n",
              "      <th>7</th>\n",
              "      <td>148</td>\n",
              "      <td>170</td>\n",
              "      <td>199</td>\n",
              "      <td>230</td>\n",
              "      <td>264</td>\n",
              "      <td>302</td>\n",
              "      <td>364</td>\n",
              "      <td>413</td>\n",
              "      <td>465</td>\n",
              "      <td>491</td>\n",
              "      <td>548</td>\n",
              "      <td>622</td>\n",
              "    </tr>\n",
              "    <tr>\n",
              "      <th>8</th>\n",
              "      <td>148</td>\n",
              "      <td>170</td>\n",
              "      <td>199</td>\n",
              "      <td>242</td>\n",
              "      <td>272</td>\n",
              "      <td>293</td>\n",
              "      <td>347</td>\n",
              "      <td>405</td>\n",
              "      <td>467</td>\n",
              "      <td>505</td>\n",
              "      <td>559</td>\n",
              "      <td>606</td>\n",
              "    </tr>\n",
              "    <tr>\n",
              "      <th>9</th>\n",
              "      <td>136</td>\n",
              "      <td>158</td>\n",
              "      <td>184</td>\n",
              "      <td>209</td>\n",
              "      <td>237</td>\n",
              "      <td>259</td>\n",
              "      <td>312</td>\n",
              "      <td>355</td>\n",
              "      <td>404</td>\n",
              "      <td>404</td>\n",
              "      <td>463</td>\n",
              "      <td>508</td>\n",
              "    </tr>\n",
              "    <tr>\n",
              "      <th>10</th>\n",
              "      <td>119</td>\n",
              "      <td>133</td>\n",
              "      <td>162</td>\n",
              "      <td>191</td>\n",
              "      <td>211</td>\n",
              "      <td>229</td>\n",
              "      <td>274</td>\n",
              "      <td>306</td>\n",
              "      <td>347</td>\n",
              "      <td>359</td>\n",
              "      <td>407</td>\n",
              "      <td>461</td>\n",
              "    </tr>\n",
              "    <tr>\n",
              "      <th>11</th>\n",
              "      <td>104</td>\n",
              "      <td>114</td>\n",
              "      <td>146</td>\n",
              "      <td>172</td>\n",
              "      <td>180</td>\n",
              "      <td>203</td>\n",
              "      <td>237</td>\n",
              "      <td>271</td>\n",
              "      <td>305</td>\n",
              "      <td>310</td>\n",
              "      <td>362</td>\n",
              "      <td>390</td>\n",
              "    </tr>\n",
              "    <tr>\n",
              "      <th>12</th>\n",
              "      <td>118</td>\n",
              "      <td>140</td>\n",
              "      <td>166</td>\n",
              "      <td>194</td>\n",
              "      <td>201</td>\n",
              "      <td>229</td>\n",
              "      <td>278</td>\n",
              "      <td>306</td>\n",
              "      <td>336</td>\n",
              "      <td>337</td>\n",
              "      <td>405</td>\n",
              "      <td>432</td>\n",
              "    </tr>\n",
              "  </tbody>\n",
              "</table>\n",
              "</div>\n",
              "      <button class=\"colab-df-convert\" onclick=\"convertToInteractive('df-4e95a684-bbf1-4b1e-8ec6-5a87508cc8a1')\"\n",
              "              title=\"Convert this dataframe to an interactive table.\"\n",
              "              style=\"display:none;\">\n",
              "        \n",
              "  <svg xmlns=\"http://www.w3.org/2000/svg\" height=\"24px\"viewBox=\"0 0 24 24\"\n",
              "       width=\"24px\">\n",
              "    <path d=\"M0 0h24v24H0V0z\" fill=\"none\"/>\n",
              "    <path d=\"M18.56 5.44l.94 2.06.94-2.06 2.06-.94-2.06-.94-.94-2.06-.94 2.06-2.06.94zm-11 1L8.5 8.5l.94-2.06 2.06-.94-2.06-.94L8.5 2.5l-.94 2.06-2.06.94zm10 10l.94 2.06.94-2.06 2.06-.94-2.06-.94-.94-2.06-.94 2.06-2.06.94z\"/><path d=\"M17.41 7.96l-1.37-1.37c-.4-.4-.92-.59-1.43-.59-.52 0-1.04.2-1.43.59L10.3 9.45l-7.72 7.72c-.78.78-.78 2.05 0 2.83L4 21.41c.39.39.9.59 1.41.59.51 0 1.02-.2 1.41-.59l7.78-7.78 2.81-2.81c.8-.78.8-2.07 0-2.86zM5.41 20L4 18.59l7.72-7.72 1.47 1.35L5.41 20z\"/>\n",
              "  </svg>\n",
              "      </button>\n",
              "      \n",
              "  <style>\n",
              "    .colab-df-container {\n",
              "      display:flex;\n",
              "      flex-wrap:wrap;\n",
              "      gap: 12px;\n",
              "    }\n",
              "\n",
              "    .colab-df-convert {\n",
              "      background-color: #E8F0FE;\n",
              "      border: none;\n",
              "      border-radius: 50%;\n",
              "      cursor: pointer;\n",
              "      display: none;\n",
              "      fill: #1967D2;\n",
              "      height: 32px;\n",
              "      padding: 0 0 0 0;\n",
              "      width: 32px;\n",
              "    }\n",
              "\n",
              "    .colab-df-convert:hover {\n",
              "      background-color: #E2EBFA;\n",
              "      box-shadow: 0px 1px 2px rgba(60, 64, 67, 0.3), 0px 1px 3px 1px rgba(60, 64, 67, 0.15);\n",
              "      fill: #174EA6;\n",
              "    }\n",
              "\n",
              "    [theme=dark] .colab-df-convert {\n",
              "      background-color: #3B4455;\n",
              "      fill: #D2E3FC;\n",
              "    }\n",
              "\n",
              "    [theme=dark] .colab-df-convert:hover {\n",
              "      background-color: #434B5C;\n",
              "      box-shadow: 0px 1px 3px 1px rgba(0, 0, 0, 0.15);\n",
              "      filter: drop-shadow(0px 1px 2px rgba(0, 0, 0, 0.3));\n",
              "      fill: #FFFFFF;\n",
              "    }\n",
              "  </style>\n",
              "\n",
              "      <script>\n",
              "        const buttonEl =\n",
              "          document.querySelector('#df-4e95a684-bbf1-4b1e-8ec6-5a87508cc8a1 button.colab-df-convert');\n",
              "        buttonEl.style.display =\n",
              "          google.colab.kernel.accessAllowed ? 'block' : 'none';\n",
              "\n",
              "        async function convertToInteractive(key) {\n",
              "          const element = document.querySelector('#df-4e95a684-bbf1-4b1e-8ec6-5a87508cc8a1');\n",
              "          const dataTable =\n",
              "            await google.colab.kernel.invokeFunction('convertToInteractive',\n",
              "                                                     [key], {});\n",
              "          if (!dataTable) return;\n",
              "\n",
              "          const docLinkHtml = 'Like what you see? Visit the ' +\n",
              "            '<a target=\"_blank\" href=https://colab.research.google.com/notebooks/data_table.ipynb>data table notebook</a>'\n",
              "            + ' to learn more about interactive tables.';\n",
              "          element.innerHTML = '';\n",
              "          dataTable['output_type'] = 'display_data';\n",
              "          await google.colab.output.renderOutput(dataTable, element);\n",
              "          const docLink = document.createElement('div');\n",
              "          docLink.innerHTML = docLinkHtml;\n",
              "          element.appendChild(docLink);\n",
              "        }\n",
              "      </script>\n",
              "    </div>\n",
              "  </div>\n",
              "  "
            ]
          },
          "metadata": {},
          "execution_count": 59
        }
      ]
    },
    {
      "cell_type": "code",
      "source": [
        "years.plot().legend(bbox_to_anchor=(1, 1))"
      ],
      "metadata": {
        "colab": {
          "base_uri": "https://localhost:8080/",
          "height": 283
        },
        "id": "t13wd0X_a_RM",
        "outputId": "714f4e8a-4de1-4523-8959-16cba2d12210"
      },
      "execution_count": null,
      "outputs": [
        {
          "output_type": "execute_result",
          "data": {
            "text/plain": [
              "<matplotlib.legend.Legend at 0x7fcc97ce2ca0>"
            ]
          },
          "metadata": {},
          "execution_count": 42
        },
        {
          "output_type": "display_data",
          "data": {
            "text/plain": [
              "<Figure size 432x288 with 1 Axes>"
            ],
            "image/png": "[encoded data removed]"
          },
          "metadata": {}
        }
      ]
    },
    {
      "cell_type": "markdown",
      "source": [
        "**Auto Correlation**<br>\n",
        "in time series, variable is correlated to itself over a lag. a lag is a period of time (interval) between 2 points of time we like to find  the correlation value for."
      ],
      "metadata": {
        "id": "RHI4yKMzcBP-"
      }
    },
    {
      "cell_type": "code",
      "source": [
        "from statsmodels.tsa.stattools import acf\n",
        "\n",
        "acf_144 = acf(airpass[\"Passengers\"], nlags=144)\n",
        "plt.plot(acf_144)"
      ],
      "metadata": {
        "id": "uK2ju-xjb6YE",
        "colab": {
          "base_uri": "https://localhost:8080/",
          "height": 283
        },
        "outputId": "1fbd5d6d-650e-4ab3-baf4-3c251a9dbf30"
      },
      "execution_count": null,
      "outputs": [
        {
          "output_type": "execute_result",
          "data": {
            "text/plain": [
              "[<matplotlib.lines.Line2D at 0x7f013735c160>]"
            ]
          },
          "metadata": {},
          "execution_count": 60
        },
        {
          "output_type": "display_data",
          "data": {
            "text/plain": [
              "<Figure size 432x288 with 1 Axes>"
            ],
            "image/png": "[encoded data removed]"
          },
          "metadata": {}
        }
      ]
    },
    {
      "cell_type": "code",
      "source": [
        "from statsmodels.graphics.tsaplots import plot_acf, plot_pacf\n",
        "plot_acf(airpass[\"Passengers\"])\n",
        "plot_pacf(airpass[\"Passengers\"]);"
      ],
      "metadata": {
        "colab": {
          "base_uri": "https://localhost:8080/",
          "height": 601
        },
        "id": "WCFWKtotPLvR",
        "outputId": "a4d1201d-4e2d-470c-b1eb-274d411e287b"
      },
      "execution_count": null,
      "outputs": [
        {
          "output_type": "stream",
          "name": "stderr",
          "text": [
            "/usr/local/lib/python3.8/dist-packages/statsmodels/graphics/tsaplots.py:348: FutureWarning: The default method 'yw' can produce PACF values outside of the [-1,1] interval. After 0.13, the default will change tounadjusted Yule-Walker ('ywm'). You can use this method now by setting method='ywm'.\n",
            "  warnings.warn(\n"
          ]
        },
        {
          "output_type": "display_data",
          "data": {
            "text/plain": [
              "<Figure size 432x288 with 1 Axes>"
            ],
            "image/png": "[encoded data removed]"
          },
          "metadata": {}
        },
        {
          "output_type": "display_data",
          "data": {
            "text/plain": [
              "<Figure size 432x288 with 1 Axes>"
            ],
            "image/png": "[encoded data removed]"
          },
          "metadata": {}
        }
      ]
    },
    {
      "cell_type": "code",
      "source": [
        "#get autocorrelation based on specific lag\n",
        "airpass.Passengers.autocorr(12)"
      ],
      "metadata": {
        "colab": {
          "base_uri": "https://localhost:8080/"
        },
        "id": "vaekEZdbVn0P",
        "outputId": "66974f5b-86c6-460c-d610-1e8982dcff9f"
      },
      "execution_count": null,
      "outputs": [
        {
          "output_type": "execute_result",
          "data": {
            "text/plain": [
              "0.990527369208544"
            ]
          },
          "metadata": {},
          "execution_count": 65
        }
      ]
    },
    {
      "cell_type": "markdown",
      "source": [
        "**Manually creating auto correlation function using pandas shift function**"
      ],
      "metadata": {
        "id": "RWTmAj8NV2R0"
      }
    },
    {
      "cell_type": "code",
      "source": [
        "\n",
        "ac_df=airpass.copy()\n",
        "#lag here is 3 month ago  which means value at 4th row of original column, becomes value at 1st row of new column\n",
        "ac_df[\"shift-3\"]=ac_df[\"Passengers\"].shift(-3)"
      ],
      "metadata": {
        "id": "MbD_aNGFSSoT"
      },
      "execution_count": null,
      "outputs": []
    },
    {
      "cell_type": "code",
      "source": [
        "ac_df[\"shift12\"]=ac_df[\"Passengers\"].shift(12) #check how correlated is data on reayly basis"
      ],
      "metadata": {
        "id": "VkcFzkr2UO3G"
      },
      "execution_count": null,
      "outputs": []
    },
    {
      "cell_type": "code",
      "source": [
        "ac_df.corr().Passengers"
      ],
      "metadata": {
        "colab": {
          "base_uri": "https://localhost:8080/"
        },
        "id": "zSWk3aGsUV8O",
        "outputId": "72521e96-f24e-4481-deb2-7795a1be5195"
      },
      "execution_count": null,
      "outputs": [
        {
          "output_type": "execute_result",
          "data": {
            "text/plain": [
              "Passengers    1.000000\n",
              "shift-3       0.837395\n",
              "shift12       0.990527\n",
              "Name: Passengers, dtype: float64"
            ]
          },
          "metadata": {},
          "execution_count": 67
        }
      ]
    },
    {
      "cell_type": "markdown",
      "source": [
        "### **Lagged-Regression**\n"
      ],
      "metadata": {
        "id": "2NHQNviRq__F"
      }
    },
    {
      "cell_type": "code",
      "source": [
        "from statsmodels.tsa.ar_model import AutoReg\n",
        "model1=AutoReg(airpass,3)\n",
        "res=model1.fit()\n",
        "print(res.summary())"
      ],
      "metadata": {
        "colab": {
          "base_uri": "https://localhost:8080/"
        },
        "id": "L2fTYRc3uyfx",
        "outputId": "5a2a115a-7bba-4be5-f435-fb360af76c49"
      },
      "execution_count": null,
      "outputs": [
        {
          "output_type": "stream",
          "name": "stdout",
          "text": [
            "                            AutoReg Model Results                             \n",
            "==============================================================================\n",
            "Dep. Variable:             Passengers   No. Observations:                  144\n",
            "Model:                     AutoReg(3)   Log Likelihood                -684.430\n",
            "Method:               Conditional MLE   S.D. of innovations             31.037\n",
            "Date:                Sun, 05 Mar 2023   AIC                           1378.860\n",
            "Time:                        12:27:07   BIC                           1393.603\n",
            "Sample:                    04-01-1949   HQIC                          1384.851\n",
            "                         - 12-01-1960                                         \n",
            "=================================================================================\n",
            "                    coef    std err          z      P>|z|      [0.025      0.975]\n",
            "---------------------------------------------------------------------------------\n",
            "const            13.6410      6.872      1.985      0.047       0.172      27.110\n",
            "Passengers.L1     1.3482      0.084     16.025      0.000       1.183       1.513\n",
            "Passengers.L2    -0.5918      0.136     -4.360      0.000      -0.858      -0.326\n",
            "Passengers.L3     0.2018      0.085      2.362      0.018       0.034       0.369\n",
            "                                    Roots                                    \n",
            "=============================================================================\n",
            "                  Real          Imaginary           Modulus         Frequency\n",
            "-----------------------------------------------------------------------------\n",
            "AR.1            1.0542           -0.0000j            1.0542           -0.0000\n",
            "AR.2            0.9391           -1.9540j            2.1680           -0.1787\n",
            "AR.3            0.9391           +1.9540j            2.1680            0.1787\n",
            "-----------------------------------------------------------------------------\n"
          ]
        },
        {
          "output_type": "stream",
          "name": "stderr",
          "text": [
            "/usr/local/lib/python3.8/dist-packages/statsmodels/tsa/base/tsa_model.py:471: ValueWarning: No frequency information was provided, so inferred frequency MS will be used.\n",
            "  self._init_dates(dates, freq)\n"
          ]
        }
      ]
    },
    {
      "cell_type": "markdown",
      "source": [
        "**Manually building regression model**"
      ],
      "metadata": {
        "id": "mU2uLXgnuzkJ"
      }
    },
    {
      "cell_type": "code",
      "source": [
        "ar=airpass.copy()\n",
        "ar[\"shift1\"]=ar[\"Passengers\"].shift(1)\n",
        "ax1 = ar.plot.scatter(x='Passengers',\n",
        "                      y='shift1',\n",
        "                      c='DarkBlue')"
      ],
      "metadata": {
        "colab": {
          "base_uri": "https://localhost:8080/",
          "height": 279
        },
        "id": "j8GmNd7MrL1d",
        "outputId": "ab67fd82-d389-4970-e600-4bde40f161cf"
      },
      "execution_count": null,
      "outputs": [
        {
          "output_type": "display_data",
          "data": {
            "text/plain": [
              "<Figure size 432x288 with 1 Axes>"
            ],
            "image/png": "[encoded data removed]"
          },
          "metadata": {}
        }
      ]
    },
    {
      "cell_type": "code",
      "source": [
        "ar[\"shift2\"]=ar[\"Passengers\"].shift(2)\n",
        "ar[\"shift3\"]=ar[\"Passengers\"].shift(3)"
      ],
      "metadata": {
        "id": "bwr7LLZ7sPgM"
      },
      "execution_count": null,
      "outputs": []
    },
    {
      "cell_type": "code",
      "source": [
        "ar.drop(\"Passengers\", axis=1, inplace=True)"
      ],
      "metadata": {
        "id": "NZkdQ_kXti4r"
      },
      "execution_count": null,
      "outputs": []
    },
    {
      "cell_type": "code",
      "source": [
        "ar"
      ],
      "metadata": {
        "id": "1OVHYQT5tpuc"
      },
      "execution_count": null,
      "outputs": []
    },
    {
      "cell_type": "code",
      "source": [
        "#convert dataframe into numpy\n",
        "x=ar.fillna(0).values"
      ],
      "metadata": {
        "id": "fvxVGfc2sjfK"
      },
      "execution_count": null,
      "outputs": []
    },
    {
      "cell_type": "code",
      "source": [
        "y=airpass.fillna(0).values"
      ],
      "metadata": {
        "id": "h123Qq30ss9u"
      },
      "execution_count": null,
      "outputs": []
    },
    {
      "cell_type": "code",
      "source": [
        "from sklearn.linear_model import LinearRegression\n",
        "lr=LinearRegression()\n",
        "lr.fit(x,y)\n",
        "print(lr.coef_,lr.intercept_)"
      ],
      "metadata": {
        "colab": {
          "base_uri": "https://localhost:8080/"
        },
        "id": "e3vWC-tdt6vt",
        "outputId": "0f29a67a-f2a2-4123-c326-d759ec7dd2a2"
      },
      "execution_count": null,
      "outputs": [
        {
          "output_type": "stream",
          "name": "stdout",
          "text": [
            "[[ 1.29840954 -0.51832797  0.16594546]] [17.54351302]\n"
          ]
        }
      ]
    },
    {
      "cell_type": "markdown",
      "source": [
        "### **Forecasting using ARIMA/SARIMA/SARIMAX**<br>\n",
        "ARIMA:Auto-Regressive Integrated Moving Average<br>\n",
        "SARIMA: Seasonal ARIMA<br>\n",
        "SARIMAX: SARIMA with Exogenous variables"
      ],
      "metadata": {
        "id": "aqCJqHe_WL7H"
      }
    },
    {
      "cell_type": "code",
      "source": [
        "#changing index\n",
        "airpass.set_index('Date', inplace=True)"
      ],
      "metadata": {
        "id": "Lpe0YZ0Nn6_e"
      },
      "execution_count": null,
      "outputs": []
    },
    {
      "cell_type": "code",
      "source": [
        "from pmdarima.arima import auto_arima\n",
        "#Auto arima suggests best model and parameters based on\n",
        "#AIC metric (relative quality of statistical models)\n",
        "#Autoarima gives us best model suited for the data\n",
        "# p - number of autoregressive terms (AR)\n",
        "# q - Number of moving avergae terms (MA)\n",
        "# d - number of non-seasonal differences\n",
        "#p, d, q represent non-seasonal components\n",
        "#P, D, Q represent seasonal components\n",
        "arima_model = auto_arima(airpass['Passengers'], start_p = 1, d=1, start_q = 1,\n",
        "                          max_p = 5, max_q = 5, max_d=5, m = 12,\n",
        "                          start_P = 0, D=1, start_Q=0, max_P=5, max_D=5, max_Q=5,\n",
        "                          seasonal = True, trace = True,\n",
        "                          error_action ='ignore',\n",
        "                          suppress_warnings = True,\n",
        "                          stepwise = True, n_fits=50)\n",
        "\n",
        "print(arima_model.summary() ) #check MODEL to see best model for the data"
      ],
      "metadata": {
        "colab": {
          "base_uri": "https://localhost:8080/"
        },
        "id": "K0JRMSeMXYsk",
        "outputId": "dcd08a70-be31-4f67-c767-61fcd004462f"
      },
      "execution_count": null,
      "outputs": [
        {
          "output_type": "stream",
          "name": "stdout",
          "text": [
            "Performing stepwise search to minimize aic\n",
            " ARIMA(1,1,1)(0,1,0)[12]             : AIC=1022.393, Time=0.25 sec\n",
            " ARIMA(0,1,0)(0,1,0)[12]             : AIC=1031.508, Time=0.05 sec\n",
            " ARIMA(1,1,0)(1,1,0)[12]             : AIC=1020.393, Time=0.16 sec\n",
            " ARIMA(0,1,1)(0,1,1)[12]             : AIC=1021.003, Time=0.24 sec\n",
            " ARIMA(1,1,0)(0,1,0)[12]             : AIC=1020.393, Time=0.08 sec\n",
            " ARIMA(1,1,0)(2,1,0)[12]             : AIC=1019.239, Time=0.40 sec\n",
            " ARIMA(1,1,0)(3,1,0)[12]             : AIC=1020.582, Time=0.89 sec\n",
            " ARIMA(1,1,0)(2,1,1)[12]             : AIC=inf, Time=3.62 sec\n",
            " ARIMA(1,1,0)(1,1,1)[12]             : AIC=1020.493, Time=0.52 sec\n",
            " ARIMA(1,1,0)(3,1,1)[12]             : AIC=inf, Time=7.07 sec\n",
            " ARIMA(0,1,0)(2,1,0)[12]             : AIC=1032.120, Time=0.45 sec\n",
            " ARIMA(2,1,0)(2,1,0)[12]             : AIC=1021.120, Time=0.57 sec\n",
            " ARIMA(1,1,1)(2,1,0)[12]             : AIC=1021.032, Time=0.72 sec\n",
            " ARIMA(0,1,1)(2,1,0)[12]             : AIC=1019.178, Time=0.48 sec\n",
            " ARIMA(0,1,1)(1,1,0)[12]             : AIC=1020.425, Time=0.18 sec\n",
            " ARIMA(0,1,1)(3,1,0)[12]             : AIC=1020.372, Time=0.89 sec\n",
            " ARIMA(0,1,1)(2,1,1)[12]             : AIC=inf, Time=3.53 sec\n",
            " ARIMA(0,1,1)(1,1,1)[12]             : AIC=1020.327, Time=1.33 sec\n",
            " ARIMA(0,1,1)(3,1,1)[12]             : AIC=inf, Time=8.70 sec\n",
            " ARIMA(0,1,2)(2,1,0)[12]             : AIC=1021.148, Time=0.48 sec\n",
            " ARIMA(1,1,2)(2,1,0)[12]             : AIC=1022.805, Time=0.91 sec\n",
            " ARIMA(0,1,1)(2,1,0)[12] intercept   : AIC=1021.017, Time=0.83 sec\n",
            "\n",
            "Best model:  ARIMA(0,1,1)(2,1,0)[12]          \n",
            "Total fit time: 32.400 seconds\n",
            "                                      SARIMAX Results                                      \n",
            "===========================================================================================\n",
            "Dep. Variable:                                   y   No. Observations:                  144\n",
            "Model:             SARIMAX(0, 1, 1)x(2, 1, [], 12)   Log Likelihood                -505.589\n",
            "Date:                             Sun, 05 Mar 2023   AIC                           1019.178\n",
            "Time:                                     11:55:17   BIC                           1030.679\n",
            "Sample:                                 01-01-1949   HQIC                          1023.851\n",
            "                                      - 12-01-1960                                         \n",
            "Covariance Type:                               opg                                         \n",
            "==============================================================================\n",
            "                 coef    std err          z      P>|z|      [0.025      0.975]\n",
            "------------------------------------------------------------------------------\n",
            "ma.L1         -0.3634      0.074     -4.945      0.000      -0.508      -0.219\n",
            "ar.S.L12      -0.1239      0.090     -1.372      0.170      -0.301       0.053\n",
            "ar.S.L24       0.1911      0.107      1.783      0.075      -0.019       0.401\n",
            "sigma2       130.4480     15.527      8.402      0.000     100.016     160.880\n",
            "===================================================================================\n",
            "Ljung-Box (L1) (Q):                   0.01   Jarque-Bera (JB):                 4.59\n",
            "Prob(Q):                              0.92   Prob(JB):                         0.10\n",
            "Heteroskedasticity (H):               2.70   Skew:                             0.15\n",
            "Prob(H) (two-sided):                  0.00   Kurtosis:                         3.87\n",
            "===================================================================================\n",
            "\n",
            "Warnings:\n",
            "[1] Covariance matrix calculated using the outer product of gradients (complex-step).\n"
          ]
        }
      ]
    },
    {
      "cell_type": "code",
      "source": [
        "#Split data into train and test (take the first 66% as test and the rest as training)\n",
        "size = int(len(airpass) * 0.66)\n",
        "X_train, X_test = airpass[0:size], airpass[size:len(airpass)]"
      ],
      "metadata": {
        "id": "F8mZvALskXCJ"
      },
      "execution_count": null,
      "outputs": []
    },
    {
      "cell_type": "code",
      "source": [
        "# Fit a SARIMAX(0, 1, 1)x(2, 1, 1, 12) on the training set\n",
        "from statsmodels.tsa.statespace.sarimax import SARIMAX\n",
        "\n",
        "model = SARIMAX(X_train['Passengers'],\n",
        "                order = (0, 1, 1),\n",
        "                seasonal_order =(2, 1, 1, 12))\n",
        "\n",
        "result = model.fit()\n",
        "result.summary()"
      ],
      "metadata": {
        "colab": {
          "base_uri": "https://localhost:8080/",
          "height": 565
        },
        "id": "YB97D9SQk6CF",
        "outputId": "cf35ed11-d4f0-4614-8cb7-884a7915512a"
      },
      "execution_count": null,
      "outputs": [
        {
          "output_type": "stream",
          "name": "stderr",
          "text": [
            "/usr/local/lib/python3.8/dist-packages/statsmodels/tsa/base/tsa_model.py:471: ValueWarning: No frequency information was provided, so inferred frequency MS will be used.\n",
            "  self._init_dates(dates, freq)\n",
            "/usr/local/lib/python3.8/dist-packages/statsmodels/tsa/base/tsa_model.py:471: ValueWarning: No frequency information was provided, so inferred frequency MS will be used.\n",
            "  self._init_dates(dates, freq)\n"
          ]
        },
        {
          "output_type": "execute_result",
          "data": {
            "text/plain": [
              "<class 'statsmodels.iolib.summary.Summary'>\n",
              "\"\"\"\n",
              "                                     SARIMAX Results                                      \n",
              "==========================================================================================\n",
              "Dep. Variable:                         Passengers   No. Observations:                   95\n",
              "Model:             SARIMAX(0, 1, 1)x(2, 1, 1, 12)   Log Likelihood                -300.269\n",
              "Date:                            Sun, 05 Mar 2023   AIC                            610.537\n",
              "Time:                                    11:55:36   BIC                            622.571\n",
              "Sample:                                01-01-1949   HQIC                           615.368\n",
              "                                     - 11-01-1956                                         \n",
              "Covariance Type:                              opg                                         \n",
              "==============================================================================\n",
              "                 coef    std err          z      P>|z|      [0.025      0.975]\n",
              "------------------------------------------------------------------------------\n",
              "ma.L1         -0.3201      0.103     -3.103      0.002      -0.522      -0.118\n",
              "ar.S.L12       0.6847      0.609      1.124      0.261      -0.509       1.878\n",
              "ar.S.L24       0.3142      0.125      2.520      0.012       0.070       0.559\n",
              "ma.S.L12      -0.9812      5.431     -0.181      0.857     -11.626       9.664\n",
              "sigma2        78.6460    379.218      0.207      0.836    -664.607     821.899\n",
              "===================================================================================\n",
              "Ljung-Box (L1) (Q):                   0.00   Jarque-Bera (JB):                 2.56\n",
              "Prob(Q):                              0.95   Prob(JB):                         0.28\n",
              "Heteroskedasticity (H):               1.69   Skew:                             0.42\n",
              "Prob(H) (two-sided):                  0.18   Kurtosis:                         2.83\n",
              "===================================================================================\n",
              "\n",
              "Warnings:\n",
              "[1] Covariance matrix calculated using the outer product of gradients (complex-step).\n",
              "\"\"\""
            ],
            "text/html": [
              "<table class=\"simpletable\">\n",
              "<caption>SARIMAX Results</caption>\n",
              "<tr>\n",
              "  <th>Dep. Variable:</th>             <td>Passengers</td>           <th>  No. Observations:  </th>    <td>95</td>   \n",
              "</tr>\n",
              "<tr>\n",
              "  <th>Model:</th>           <td>SARIMAX(0, 1, 1)x(2, 1, 1, 12)</td> <th>  Log Likelihood     </th> <td>-300.269</td>\n",
              "</tr>\n",
              "<tr>\n",
              "  <th>Date:</th>                   <td>Sun, 05 Mar 2023</td>        <th>  AIC                </th>  <td>610.537</td>\n",
              "</tr>\n",
              "<tr>\n",
              "  <th>Time:</th>                       <td>11:55:36</td>            <th>  BIC                </th>  <td>622.571</td>\n",
              "</tr>\n",
              "<tr>\n",
              "  <th>Sample:</th>                    <td>01-01-1949</td>           <th>  HQIC               </th>  <td>615.368</td>\n",
              "</tr>\n",
              "<tr>\n",
              "  <th></th>                          <td>- 11-01-1956</td>          <th>                     </th>     <td> </td>   \n",
              "</tr>\n",
              "<tr>\n",
              "  <th>Covariance Type:</th>               <td>opg</td>              <th>                     </th>     <td> </td>   \n",
              "</tr>\n",
              "</table>\n",
              "<table class=\"simpletable\">\n",
              "<tr>\n",
              "      <td></td>        <th>coef</th>     <th>std err</th>      <th>z</th>      <th>P>|z|</th>  <th>[0.025</th>    <th>0.975]</th>  \n",
              "</tr>\n",
              "<tr>\n",
              "  <th>ma.L1</th>    <td>   -0.3201</td> <td>    0.103</td> <td>   -3.103</td> <td> 0.002</td> <td>   -0.522</td> <td>   -0.118</td>\n",
              "</tr>\n",
              "<tr>\n",
              "  <th>ar.S.L12</th> <td>    0.6847</td> <td>    0.609</td> <td>    1.124</td> <td> 0.261</td> <td>   -0.509</td> <td>    1.878</td>\n",
              "</tr>\n",
              "<tr>\n",
              "  <th>ar.S.L24</th> <td>    0.3142</td> <td>    0.125</td> <td>    2.520</td> <td> 0.012</td> <td>    0.070</td> <td>    0.559</td>\n",
              "</tr>\n",
              "<tr>\n",
              "  <th>ma.S.L12</th> <td>   -0.9812</td> <td>    5.431</td> <td>   -0.181</td> <td> 0.857</td> <td>  -11.626</td> <td>    9.664</td>\n",
              "</tr>\n",
              "<tr>\n",
              "  <th>sigma2</th>   <td>   78.6460</td> <td>  379.218</td> <td>    0.207</td> <td> 0.836</td> <td> -664.607</td> <td>  821.899</td>\n",
              "</tr>\n",
              "</table>\n",
              "<table class=\"simpletable\">\n",
              "<tr>\n",
              "  <th>Ljung-Box (L1) (Q):</th>     <td>0.00</td> <th>  Jarque-Bera (JB):  </th> <td>2.56</td>\n",
              "</tr>\n",
              "<tr>\n",
              "  <th>Prob(Q):</th>                <td>0.95</td> <th>  Prob(JB):          </th> <td>0.28</td>\n",
              "</tr>\n",
              "<tr>\n",
              "  <th>Heteroskedasticity (H):</th> <td>1.69</td> <th>  Skew:              </th> <td>0.42</td>\n",
              "</tr>\n",
              "<tr>\n",
              "  <th>Prob(H) (two-sided):</th>    <td>0.18</td> <th>  Kurtosis:          </th> <td>2.83</td>\n",
              "</tr>\n",
              "</table><br/><br/>Warnings:<br/>[1] Covariance matrix calculated using the outer product of gradients (complex-step)."
            ]
          },
          "metadata": {},
          "execution_count": 92
        }
      ]
    },
    {
      "cell_type": "code",
      "source": [
        "#Train prediction\n",
        "start_index = 0\n",
        "end_index = len(X_train)-1\n",
        "train_prediction = result.predict(start_index, end_index)"
      ],
      "metadata": {
        "id": "0eCRxGq7lJsk"
      },
      "execution_count": null,
      "outputs": []
    },
    {
      "cell_type": "code",
      "source": [
        "#TEST Prediction\n",
        "start_index = len(X_train)\n",
        "end_index = len(airpass)-1\n",
        "prediction = result.predict(start_index, end_index).rename('Predicted passengers')"
      ],
      "metadata": {
        "id": "Y-ZqO8qylXpV"
      },
      "execution_count": null,
      "outputs": []
    },
    {
      "cell_type": "code",
      "source": [
        "# plot predictions and actual values\n",
        "prediction.plot(legend = True)  #prediction\n",
        "X_test['Passengers'].plot(legend = True) #actual data"
      ],
      "metadata": {
        "colab": {
          "base_uri": "https://localhost:8080/",
          "height": 297
        },
        "id": "Bq8TWfx8ljz4",
        "outputId": "c8b37a3c-add0-4e0c-9950-1a00964d85b9"
      },
      "execution_count": null,
      "outputs": [
        {
          "output_type": "execute_result",
          "data": {
            "text/plain": [
              "<AxesSubplot:xlabel='Date'>"
            ]
          },
          "metadata": {},
          "execution_count": 95
        },
        {
          "output_type": "display_data",
          "data": {
            "text/plain": [
              "<Figure size 432x288 with 1 Axes>"
            ],
            "image/png": "[encoded data removed]"
          },
          "metadata": {}
        }
      ]
    },
    {
      "cell_type": "code",
      "source": [
        "#forecasting\n",
        "forecast = result.predict(start = len(airpass),\n",
        "                          end = (len(airpass)-1) + 3 * 12,  # forecast for the next 3 years\n",
        "                          typ = 'levels').rename('Forecast')"
      ],
      "metadata": {
        "id": "OwutIkU-l4ua"
      },
      "execution_count": null,
      "outputs": []
    },
    {
      "cell_type": "code",
      "source": [
        "plt.figure(figsize=(12,8))\n",
        "plt.plot(X_train, label='Training', color='green')\n",
        "plt.plot(X_test, label='Test', color='yellow')\n",
        "plt.plot(forecast, label='Forecast', color='cyan')\n",
        "plt.legend(loc='lower right')\n",
        "plt.show();"
      ],
      "metadata": {
        "colab": {
          "base_uri": "https://localhost:8080/",
          "height": 483
        },
        "id": "Pps4PlNrmIv4",
        "outputId": "135523dd-d9cd-4e68-b273-db7e45cf08b6"
      },
      "execution_count": null,
      "outputs": [
        {
          "output_type": "display_data",
          "data": {
            "text/plain": [
              "<Figure size 864x576 with 1 Axes>"
            ],
            "image/png": "[encoded data removed]"
          },
          "metadata": {}
        }
      ]
    },
    {
      "cell_type": "markdown",
      "source": [
        "### **Forecasting using LSTM**"
      ],
      "metadata": {
        "id": "eKT55IjYW3XK"
      }
    },
    {
      "cell_type": "code",
      "source": [
        "from keras.models import Sequential\n",
        "from keras.layers import Dense\n",
        "from keras.layers import LSTM, Flatten\n",
        "from sklearn.preprocessing import MinMaxScaler\n",
        "from sklearn.metrics import mean_squared_error"
      ],
      "metadata": {
        "id": "-AMR5a7QW_6p"
      },
      "execution_count": null,
      "outputs": []
    },
    {
      "cell_type": "code",
      "source": [
        "#drop the date column\n",
        "airpass_=airpass.copy()\n",
        "airpass_.reset_index(inplace=True)\n",
        "airpass_.drop(\"Date\", axis=1, inplace=True)"
      ],
      "metadata": {
        "id": "NfC8Flh50Tep"
      },
      "execution_count": null,
      "outputs": []
    },
    {
      "cell_type": "code",
      "source": [
        "#scaling the data between minimum and maximum passanger number\n",
        "scaler = MinMaxScaler(feature_range=(0, 1))\n",
        "dataset = scaler.fit_transform(airpass_)"
      ],
      "metadata": {
        "id": "W1Mm_zAy0_Ed"
      },
      "execution_count": null,
      "outputs": []
    },
    {
      "cell_type": "code",
      "source": [
        "#Split data into train and test (take the first 66% as test and the rest as training)\n",
        "size = int(len(dataset) * 0.66)\n",
        "train, test = dataset[0:size], dataset[size:len(airpass)]"
      ],
      "metadata": {
        "id": "Q3-vbhI_1nV7"
      },
      "execution_count": null,
      "outputs": []
    },
    {
      "cell_type": "code",
      "source": [
        "#greate a sequence of n+1 (n=feature=number of months to look back, n+1 is the lable)\n",
        "#seq_size=n\n",
        "def to_sequences(dataset, seq_size=5):\n",
        "    x = []\n",
        "    y = []\n",
        "    last_index_for_sequence=len(dataset)-seq_size-1\n",
        "    for i in range(last_index_for_sequence):\n",
        "        window = dataset[i:(i+seq_size), 0]\n",
        "        x.append(window) #creating feature set array\n",
        "        y.append(dataset[i+seq_size, 0]) #creating lable array\n",
        "\n",
        "    return np.array(x),np.array(y)"
      ],
      "metadata": {
        "id": "_jK7M-lE1uwE"
      },
      "execution_count": null,
      "outputs": []
    },
    {
      "cell_type": "code",
      "source": [
        "seq_size = 12\n",
        "trainX, trainY = to_sequences(train, seq_size)\n",
        "testX, testY = to_sequences(test, seq_size)\n",
        "print(\"Shape of training set: {}\".format(trainX.shape))\n",
        "print(\"Shape of test set: {}\".format(testX.shape))"
      ],
      "metadata": {
        "colab": {
          "base_uri": "https://localhost:8080/"
        },
        "id": "3yF34n7i2h51",
        "outputId": "7417266d-fe11-4142-f58a-2d3ffd1fdf06"
      },
      "execution_count": null,
      "outputs": [
        {
          "output_type": "stream",
          "name": "stdout",
          "text": [
            "Shape of training set: (82, 12)\n",
            "Shape of test set: (36, 12)\n"
          ]
        }
      ]
    },
    {
      "cell_type": "code",
      "source": [
        "# Reshape input to be [samples, time steps, features]\n",
        "trainX = np.reshape(trainX, (trainX.shape[0], 1, trainX.shape[1]))\n",
        "testX = np.reshape(testX, (testX.shape[0], 1, testX.shape[1]))"
      ],
      "metadata": {
        "id": "0X2eSH7F3Lsd"
      },
      "execution_count": null,
      "outputs": []
    },
    {
      "cell_type": "code",
      "source": [
        "model = Sequential()\n",
        "model.add(LSTM(50, activation='relu', return_sequences=True, input_shape=(None, seq_size)))\n",
        "model.add(LSTM(50, activation='relu'))\n",
        "model.add(Dense(32))\n",
        "model.add(Dense(1))\n",
        "model.compile(optimizer='adam', loss='mean_squared_error')\n",
        "model.summary()"
      ],
      "metadata": {
        "colab": {
          "base_uri": "https://localhost:8080/"
        },
        "id": "7QiVcmuG4cFb",
        "outputId": "2d353f81-10a1-4630-ff5a-7c6e81b9e7c9"
      },
      "execution_count": null,
      "outputs": [
        {
          "output_type": "stream",
          "name": "stdout",
          "text": [
            "Model: \"sequential\"\n",
            "_________________________________________________________________\n",
            " Layer (type)                Output Shape              Param #   \n",
            "=================================================================\n",
            " lstm (LSTM)                 (None, None, 50)          12600     \n",
            "                                                                 \n",
            " lstm_1 (LSTM)               (None, 50)                20200     \n",
            "                                                                 \n",
            " dense (Dense)               (None, 32)                1632      \n",
            "                                                                 \n",
            " dense_1 (Dense)             (None, 1)                 33        \n",
            "                                                                 \n",
            "=================================================================\n",
            "Total params: 34,465\n",
            "Trainable params: 34,465\n",
            "Non-trainable params: 0\n",
            "_________________________________________________________________\n"
          ]
        }
      ]
    },
    {
      "cell_type": "code",
      "source": [
        "model.fit(trainX, trainY, validation_data=(testX, testY),\n",
        "          verbose=2, epochs=100)\n",
        "# make predictions\n",
        "trainPredict = model.predict(trainX)\n",
        "testPredict = model.predict(testX)"
      ],
      "metadata": {
        "colab": {
          "base_uri": "https://localhost:8080/"
        },
        "id": "yKUHjKxP4t7_",
        "outputId": "28825422-e437-44a0-8c39-fab1257c15e4"
      },
      "execution_count": null,
      "outputs": [
        {
          "output_type": "stream",
          "name": "stdout",
          "text": [
            "Epoch 1/100\n",
            "3/3 - 7s - loss: 0.0665 - val_loss: 0.3623 - 7s/epoch - 2s/step\n",
            "Epoch 2/100\n",
            "3/3 - 0s - loss: 0.0541 - val_loss: 0.3225 - 86ms/epoch - 29ms/step\n",
            "Epoch 3/100\n",
            "3/3 - 0s - loss: 0.0428 - val_loss: 0.2834 - 92ms/epoch - 31ms/step\n",
            "Epoch 4/100\n",
            "3/3 - 0s - loss: 0.0331 - val_loss: 0.2446 - 108ms/epoch - 36ms/step\n",
            "Epoch 5/100\n",
            "3/3 - 0s - loss: 0.0256 - val_loss: 0.2059 - 67ms/epoch - 22ms/step\n",
            "Epoch 6/100\n",
            "3/3 - 0s - loss: 0.0197 - val_loss: 0.1691 - 75ms/epoch - 25ms/step\n",
            "Epoch 7/100\n",
            "3/3 - 0s - loss: 0.0157 - val_loss: 0.1354 - 89ms/epoch - 30ms/step\n",
            "Epoch 8/100\n",
            "3/3 - 0s - loss: 0.0131 - val_loss: 0.1077 - 94ms/epoch - 31ms/step\n",
            "Epoch 9/100\n",
            "3/3 - 0s - loss: 0.0132 - val_loss: 0.0853 - 100ms/epoch - 33ms/step\n",
            "Epoch 10/100\n",
            "3/3 - 0s - loss: 0.0137 - val_loss: 0.0717 - 86ms/epoch - 29ms/step\n",
            "Epoch 11/100\n",
            "3/3 - 0s - loss: 0.0140 - val_loss: 0.0653 - 73ms/epoch - 24ms/step\n",
            "Epoch 12/100\n",
            "3/3 - 0s - loss: 0.0137 - val_loss: 0.0646 - 72ms/epoch - 24ms/step\n",
            "Epoch 13/100\n",
            "3/3 - 0s - loss: 0.0128 - val_loss: 0.0671 - 71ms/epoch - 24ms/step\n",
            "Epoch 14/100\n",
            "3/3 - 0s - loss: 0.0116 - val_loss: 0.0690 - 72ms/epoch - 24ms/step\n",
            "Epoch 15/100\n",
            "3/3 - 0s - loss: 0.0108 - val_loss: 0.0688 - 81ms/epoch - 27ms/step\n",
            "Epoch 16/100\n",
            "3/3 - 0s - loss: 0.0101 - val_loss: 0.0651 - 84ms/epoch - 28ms/step\n",
            "Epoch 17/100\n",
            "3/3 - 0s - loss: 0.0095 - val_loss: 0.0570 - 82ms/epoch - 27ms/step\n",
            "Epoch 18/100\n",
            "3/3 - 0s - loss: 0.0087 - val_loss: 0.0445 - 91ms/epoch - 30ms/step\n",
            "Epoch 19/100\n",
            "3/3 - 0s - loss: 0.0078 - val_loss: 0.0314 - 86ms/epoch - 29ms/step\n",
            "Epoch 20/100\n",
            "3/3 - 0s - loss: 0.0069 - val_loss: 0.0208 - 73ms/epoch - 24ms/step\n",
            "Epoch 21/100\n",
            "3/3 - 0s - loss: 0.0061 - val_loss: 0.0156 - 90ms/epoch - 30ms/step\n",
            "Epoch 22/100\n",
            "3/3 - 0s - loss: 0.0055 - val_loss: 0.0150 - 82ms/epoch - 27ms/step\n",
            "Epoch 23/100\n",
            "3/3 - 0s - loss: 0.0048 - val_loss: 0.0160 - 75ms/epoch - 25ms/step\n",
            "Epoch 24/100\n",
            "3/3 - 0s - loss: 0.0042 - val_loss: 0.0177 - 71ms/epoch - 24ms/step\n",
            "Epoch 25/100\n",
            "3/3 - 0s - loss: 0.0037 - val_loss: 0.0195 - 94ms/epoch - 31ms/step\n",
            "Epoch 26/100\n",
            "3/3 - 0s - loss: 0.0034 - val_loss: 0.0234 - 74ms/epoch - 25ms/step\n",
            "Epoch 27/100\n",
            "3/3 - 0s - loss: 0.0031 - val_loss: 0.0331 - 73ms/epoch - 24ms/step\n",
            "Epoch 28/100\n",
            "3/3 - 0s - loss: 0.0029 - val_loss: 0.0533 - 48ms/epoch - 16ms/step\n",
            "Epoch 29/100\n",
            "3/3 - 0s - loss: 0.0027 - val_loss: 0.0642 - 50ms/epoch - 17ms/step\n",
            "Epoch 30/100\n",
            "3/3 - 0s - loss: 0.0026 - val_loss: 0.0618 - 63ms/epoch - 21ms/step\n",
            "Epoch 31/100\n",
            "3/3 - 0s - loss: 0.0026 - val_loss: 0.0558 - 49ms/epoch - 16ms/step\n",
            "Epoch 32/100\n",
            "3/3 - 0s - loss: 0.0026 - val_loss: 0.0549 - 65ms/epoch - 22ms/step\n",
            "Epoch 33/100\n",
            "3/3 - 0s - loss: 0.0025 - val_loss: 0.0657 - 72ms/epoch - 24ms/step\n",
            "Epoch 34/100\n",
            "3/3 - 0s - loss: 0.0023 - val_loss: 0.0792 - 50ms/epoch - 17ms/step\n",
            "Epoch 35/100\n",
            "3/3 - 0s - loss: 0.0024 - val_loss: 0.0824 - 55ms/epoch - 18ms/step\n",
            "Epoch 36/100\n",
            "3/3 - 0s - loss: 0.0024 - val_loss: 0.0710 - 50ms/epoch - 17ms/step\n",
            "Epoch 37/100\n",
            "3/3 - 0s - loss: 0.0022 - val_loss: 0.0511 - 74ms/epoch - 25ms/step\n",
            "Epoch 38/100\n",
            "3/3 - 0s - loss: 0.0022 - val_loss: 0.0446 - 65ms/epoch - 22ms/step\n",
            "Epoch 39/100\n",
            "3/3 - 0s - loss: 0.0022 - val_loss: 0.0487 - 50ms/epoch - 17ms/step\n",
            "Epoch 40/100\n",
            "3/3 - 0s - loss: 0.0020 - val_loss: 0.0592 - 54ms/epoch - 18ms/step\n",
            "Epoch 41/100\n",
            "3/3 - 0s - loss: 0.0020 - val_loss: 0.0672 - 51ms/epoch - 17ms/step\n",
            "Epoch 42/100\n",
            "3/3 - 0s - loss: 0.0020 - val_loss: 0.0611 - 65ms/epoch - 22ms/step\n",
            "Epoch 43/100\n",
            "3/3 - 0s - loss: 0.0019 - val_loss: 0.0451 - 67ms/epoch - 22ms/step\n",
            "Epoch 44/100\n",
            "3/3 - 0s - loss: 0.0019 - val_loss: 0.0388 - 65ms/epoch - 22ms/step\n",
            "Epoch 45/100\n",
            "3/3 - 0s - loss: 0.0018 - val_loss: 0.0466 - 49ms/epoch - 16ms/step\n",
            "Epoch 46/100\n",
            "3/3 - 0s - loss: 0.0017 - val_loss: 0.0537 - 56ms/epoch - 19ms/step\n",
            "Epoch 47/100\n",
            "3/3 - 0s - loss: 0.0017 - val_loss: 0.0580 - 64ms/epoch - 21ms/step\n",
            "Epoch 48/100\n",
            "3/3 - 0s - loss: 0.0017 - val_loss: 0.0475 - 63ms/epoch - 21ms/step\n",
            "Epoch 49/100\n",
            "3/3 - 0s - loss: 0.0016 - val_loss: 0.0399 - 58ms/epoch - 19ms/step\n",
            "Epoch 50/100\n",
            "3/3 - 0s - loss: 0.0016 - val_loss: 0.0397 - 66ms/epoch - 22ms/step\n",
            "Epoch 51/100\n",
            "3/3 - 0s - loss: 0.0015 - val_loss: 0.0475 - 48ms/epoch - 16ms/step\n",
            "Epoch 52/100\n",
            "3/3 - 0s - loss: 0.0015 - val_loss: 0.0522 - 49ms/epoch - 16ms/step\n",
            "Epoch 53/100\n",
            "3/3 - 0s - loss: 0.0015 - val_loss: 0.0437 - 47ms/epoch - 16ms/step\n",
            "Epoch 54/100\n",
            "3/3 - 0s - loss: 0.0015 - val_loss: 0.0368 - 48ms/epoch - 16ms/step\n",
            "Epoch 55/100\n",
            "3/3 - 0s - loss: 0.0014 - val_loss: 0.0417 - 64ms/epoch - 21ms/step\n",
            "Epoch 56/100\n",
            "3/3 - 0s - loss: 0.0013 - val_loss: 0.0492 - 52ms/epoch - 17ms/step\n",
            "Epoch 57/100\n",
            "3/3 - 0s - loss: 0.0013 - val_loss: 0.0469 - 53ms/epoch - 18ms/step\n",
            "Epoch 58/100\n",
            "3/3 - 0s - loss: 0.0013 - val_loss: 0.0394 - 68ms/epoch - 23ms/step\n",
            "Epoch 59/100\n",
            "3/3 - 0s - loss: 0.0012 - val_loss: 0.0377 - 52ms/epoch - 17ms/step\n",
            "Epoch 60/100\n",
            "3/3 - 0s - loss: 0.0012 - val_loss: 0.0395 - 69ms/epoch - 23ms/step\n",
            "Epoch 61/100\n",
            "3/3 - 0s - loss: 0.0012 - val_loss: 0.0389 - 47ms/epoch - 16ms/step\n",
            "Epoch 62/100\n",
            "3/3 - 0s - loss: 0.0012 - val_loss: 0.0365 - 62ms/epoch - 21ms/step\n",
            "Epoch 63/100\n",
            "3/3 - 0s - loss: 0.0011 - val_loss: 0.0406 - 48ms/epoch - 16ms/step\n",
            "Epoch 64/100\n",
            "3/3 - 0s - loss: 0.0011 - val_loss: 0.0402 - 66ms/epoch - 22ms/step\n",
            "Epoch 65/100\n",
            "3/3 - 0s - loss: 0.0011 - val_loss: 0.0354 - 62ms/epoch - 21ms/step\n",
            "Epoch 66/100\n",
            "3/3 - 0s - loss: 0.0011 - val_loss: 0.0306 - 80ms/epoch - 27ms/step\n",
            "Epoch 67/100\n",
            "3/3 - 0s - loss: 0.0011 - val_loss: 0.0351 - 50ms/epoch - 17ms/step\n",
            "Epoch 68/100\n",
            "3/3 - 0s - loss: 0.0010 - val_loss: 0.0365 - 49ms/epoch - 16ms/step\n",
            "Epoch 69/100\n",
            "3/3 - 0s - loss: 0.0010 - val_loss: 0.0364 - 50ms/epoch - 17ms/step\n",
            "Epoch 70/100\n",
            "3/3 - 0s - loss: 9.9293e-04 - val_loss: 0.0334 - 46ms/epoch - 15ms/step\n",
            "Epoch 71/100\n",
            "3/3 - 0s - loss: 9.7394e-04 - val_loss: 0.0293 - 49ms/epoch - 16ms/step\n",
            "Epoch 72/100\n",
            "3/3 - 0s - loss: 9.7000e-04 - val_loss: 0.0313 - 51ms/epoch - 17ms/step\n",
            "Epoch 73/100\n",
            "3/3 - 0s - loss: 9.3262e-04 - val_loss: 0.0331 - 51ms/epoch - 17ms/step\n",
            "Epoch 74/100\n",
            "3/3 - 0s - loss: 9.2849e-04 - val_loss: 0.0340 - 53ms/epoch - 18ms/step\n",
            "Epoch 75/100\n",
            "3/3 - 0s - loss: 9.3195e-04 - val_loss: 0.0287 - 64ms/epoch - 21ms/step\n",
            "Epoch 76/100\n",
            "3/3 - 0s - loss: 8.9659e-04 - val_loss: 0.0292 - 48ms/epoch - 16ms/step\n",
            "Epoch 77/100\n",
            "3/3 - 0s - loss: 8.7830e-04 - val_loss: 0.0305 - 66ms/epoch - 22ms/step\n",
            "Epoch 78/100\n",
            "3/3 - 0s - loss: 8.8413e-04 - val_loss: 0.0303 - 52ms/epoch - 17ms/step\n",
            "Epoch 79/100\n",
            "3/3 - 0s - loss: 8.5957e-04 - val_loss: 0.0273 - 55ms/epoch - 18ms/step\n",
            "Epoch 80/100\n",
            "3/3 - 0s - loss: 8.4146e-04 - val_loss: 0.0279 - 52ms/epoch - 17ms/step\n",
            "Epoch 81/100\n",
            "3/3 - 0s - loss: 8.2712e-04 - val_loss: 0.0298 - 51ms/epoch - 17ms/step\n",
            "Epoch 82/100\n",
            "3/3 - 0s - loss: 8.3296e-04 - val_loss: 0.0289 - 68ms/epoch - 23ms/step\n",
            "Epoch 83/100\n",
            "3/3 - 0s - loss: 8.1818e-04 - val_loss: 0.0300 - 102ms/epoch - 34ms/step\n",
            "Epoch 84/100\n",
            "3/3 - 0s - loss: 8.0515e-04 - val_loss: 0.0264 - 70ms/epoch - 23ms/step\n",
            "Epoch 85/100\n",
            "3/3 - 0s - loss: 7.9624e-04 - val_loss: 0.0253 - 67ms/epoch - 22ms/step\n",
            "Epoch 86/100\n",
            "3/3 - 0s - loss: 7.9817e-04 - val_loss: 0.0274 - 51ms/epoch - 17ms/step\n",
            "Epoch 87/100\n",
            "3/3 - 0s - loss: 7.7145e-04 - val_loss: 0.0257 - 66ms/epoch - 22ms/step\n",
            "Epoch 88/100\n",
            "3/3 - 0s - loss: 7.6637e-04 - val_loss: 0.0240 - 54ms/epoch - 18ms/step\n",
            "Epoch 89/100\n",
            "3/3 - 0s - loss: 7.5953e-04 - val_loss: 0.0250 - 72ms/epoch - 24ms/step\n",
            "Epoch 90/100\n",
            "3/3 - 0s - loss: 7.5699e-04 - val_loss: 0.0267 - 50ms/epoch - 17ms/step\n",
            "Epoch 91/100\n",
            "3/3 - 0s - loss: 7.4515e-04 - val_loss: 0.0254 - 50ms/epoch - 17ms/step\n",
            "Epoch 92/100\n",
            "3/3 - 0s - loss: 7.3947e-04 - val_loss: 0.0254 - 69ms/epoch - 23ms/step\n",
            "Epoch 93/100\n",
            "3/3 - 0s - loss: 7.4189e-04 - val_loss: 0.0231 - 54ms/epoch - 18ms/step\n",
            "Epoch 94/100\n",
            "3/3 - 0s - loss: 7.2758e-04 - val_loss: 0.0258 - 56ms/epoch - 19ms/step\n",
            "Epoch 95/100\n",
            "3/3 - 0s - loss: 7.1710e-04 - val_loss: 0.0245 - 67ms/epoch - 22ms/step\n",
            "Epoch 96/100\n",
            "3/3 - 0s - loss: 7.1084e-04 - val_loss: 0.0228 - 56ms/epoch - 19ms/step\n",
            "Epoch 97/100\n",
            "3/3 - 0s - loss: 7.0446e-04 - val_loss: 0.0235 - 71ms/epoch - 24ms/step\n",
            "Epoch 98/100\n",
            "3/3 - 0s - loss: 7.3694e-04 - val_loss: 0.0263 - 68ms/epoch - 23ms/step\n",
            "Epoch 99/100\n",
            "3/3 - 0s - loss: 6.9395e-04 - val_loss: 0.0220 - 50ms/epoch - 17ms/step\n",
            "Epoch 100/100\n",
            "3/3 - 0s - loss: 6.9313e-04 - val_loss: 0.0208 - 71ms/epoch - 24ms/step\n",
            "3/3 [==============================] - 0s 5ms/step\n",
            "2/2 [==============================] - 0s 8ms/step\n"
          ]
        }
      ]
    },
    {
      "cell_type": "code",
      "source": [
        "#since we scaled the data, now we need to convert the scaled data back to actual data\n",
        "trainPredict = scaler.inverse_transform(trainPredict)\n",
        "trainY = scaler.inverse_transform([trainY])\n",
        "\n",
        "testPredict = scaler.inverse_transform(testPredict)\n",
        "testY = scaler.inverse_transform([testY])\n"
      ],
      "metadata": {
        "id": "84NYoFgC4-t6"
      },
      "execution_count": null,
      "outputs": []
    },
    {
      "cell_type": "code",
      "source": [
        "# calculate root mean squared error\n",
        "trainScore = math.sqrt(mean_squared_error(trainY[0], trainPredict[:,0]))\n",
        "print('Train Score: %.2f RMSE' % (trainScore))\n",
        "\n",
        "testScore = math.sqrt(mean_squared_error(testY[0], testPredict[:,0]))\n",
        "print('Test Score: %.2f RMSE' % (testScore))"
      ],
      "metadata": {
        "colab": {
          "base_uri": "https://localhost:8080/"
        },
        "id": "WOmCOTwG5FHj",
        "outputId": "a1e1374f-93bd-4ff3-98e2-5db73ca43daa"
      },
      "execution_count": null,
      "outputs": [
        {
          "output_type": "stream",
          "name": "stdout",
          "text": [
            "Train Score: 13.57 RMSE\n",
            "Test Score: 74.77 RMSE\n"
          ]
        }
      ]
    },
    {
      "cell_type": "code",
      "source": [
        "# shift train predictions for plotting\n",
        "#we must shift the predictions so that they align on the x-axis with the original dataset.\n",
        "trainPredictPlot = np.empty_like(dataset)\n",
        "trainPredictPlot[:, :] = np.nan\n",
        "trainPredictPlot[seq_size:len(trainPredict)+seq_size, :] = trainPredict\n",
        "\n",
        "# shift test predictions for plotting\n",
        "testPredictPlot = np.empty_like(dataset)\n",
        "testPredictPlot[:, :] = np.nan\n",
        "testPredictPlot[len(trainPredict)+(seq_size*2)+1:len(dataset)-1, :] = testPredict\n",
        "\n",
        "# plot baseline and predictions\n",
        "plt.figure(figsize=(12,8))\n",
        "plt.plot(scaler.inverse_transform(dataset),  label='Actual', color='green')\n",
        "plt.plot(trainPredictPlot, label='Training', color='yellow')\n",
        "plt.plot(testPredictPlot, label='Test', color='cyan')\n",
        "plt.legend(loc='lower right')\n",
        "plt.show()\n",
        "\n"
      ],
      "metadata": {
        "colab": {
          "base_uri": "https://localhost:8080/",
          "height": 483
        },
        "id": "R3fzJnut5Ypx",
        "outputId": "688f0679-cf97-4bb5-962a-b595953125f0"
      },
      "execution_count": null,
      "outputs": [
        {
          "output_type": "display_data",
          "data": {
            "text/plain": [
              "<Figure size 864x576 with 1 Axes>"
            ],
            "image/png": "[encoded data removed]"
          },
          "metadata": {}
        }
      ]
    },
    {
      "cell_type": "markdown",
      "source": [
        "### **Similar applications**\n",
        "* [Taxi Deman Forecasting - Russian :D](https://github.com/anafisa/NYC-Taxi-Demand-Prediction/blob/main/03_complex_seasonal_forecasting.ipynb)\n",
        "* [Web Traffic Analysis](https://github.com/Subikshaa/Time-Series-Forecasting-on-Web-Traffic-Dataset/blob/master/forecast_CNN.ipynb)"
      ],
      "metadata": {
        "id": "gFb8ta2PF3lz"
      }
    },
    {
      "cell_type": "markdown",
      "source": [
        "## **Application2: Stock Price Analysis and Forecasting**"
      ],
      "metadata": {
        "id": "KXfOB1AjXpVu"
      }
    },
    {
      "cell_type": "markdown",
      "source": [
        "**Exercise1:**\n",
        "\n",
        "* go to yahoo finance, and download the stock exchange data of any of the top UAE companies from the first available day till today (Examle [Emaar Dataset](https://finance.yahoo.com/quote/EMAAR.AE/history?p=EMAAR.AE))\n",
        "* Apply above EDA and more if you are interested on the dataset\n",
        "* Using [LSTM Autoencoder](#https://github.com/bnsreenu/python_for_microscopists/blob/master/180_LSTM_encoder_decoder_anomaly_GE.py) find all anomalies, and google the dates with anomalies to explain the cause of the anomaly\n",
        "* using ARIMA sample above and [ConvLSTM2D](https://github.com/bnsreenu/python_for_microscopists/blob/master/166a-Intro_to_time_series_Forecasting_using_LSTM.py), predict the stock price for each day in the next 90 days using all variables. For multi variant prediction [check this](https://github.com/bnsreenu/python_for_microscopists/blob/master/181_multivariate_timeseries_LSTM_GE.py)\n",
        "* Compare the models using RMSE score for both training and test dataset"
      ],
      "metadata": {
        "id": "XyexVf7WBJhN"
      }
    },
    {
      "cell_type": "code",
      "source": [
        "\n",
        "import numpy as np\n",
        "import pandas as pd\n",
        "import matplotlib.pyplot as plt\n",
        "from sklearn.preprocessing import MinMaxScaler\n",
        "from tensorflow.keras.models import Sequential\n",
        "from tensorflow.keras.layers import LSTM, Dense, RepeatVector, TimeDistributed\n",
        "from tensorflow.keras.losses import MeanSquaredError\n",
        "from tensorflow.keras.layers import Dropout\n",
        "\n",
        "# Load the data\n",
        "data = pd.read_csv(\"/content/MASQ.AE.csv\")\n",
        "\n",
        "# Convert the date column to a datetime object and set it as the index\n",
        "data[\"Date\"] = pd.to_datetime(data[\"Date\"])\n",
        "data.set_index(\"Date\", inplace=True)\n",
        "# Drop rows with NaN values\n",
        "data.dropna(inplace=True)\n",
        "\n",
        "scaler = MinMaxScaler()\n",
        "scaled_data = scaler.fit_transform(data[[\"Open\",\"High\", \"Low\", \"Close\", \"Adj Close\", \"Volume\"]])\n",
        "\n",
        "def create_windows(data, window_size):\n",
        "    X, y = [], []\n",
        "    for i in range(len(data) - window_size - 1):\n",
        "        X.append(data[i:(i + window_size), :])\n",
        "        y.append(data[(i + window_size), :])\n",
        "    return np.array(X), np.array(y)\n",
        "\n",
        "window_size = 10\n",
        "\n",
        "X, y = create_windows(scaled_data, window_size)\n",
        "\n",
        "model = Sequential([\n",
        "    LSTM(256, activation=\"relu\", input_shape=(X.shape[1], X.shape[2]), return_sequences=True),\n",
        "    Dropout(0.2),\n",
        "    LSTM(128, activation=\"relu\", return_sequences=False),\n",
        "    Dropout(0.2),\n",
        "    RepeatVector(1),\n",
        "    LSTM(128, activation=\"relu\", return_sequences=True),\n",
        "    Dropout(0.2),\n",
        "    LSTM(256, activation=\"relu\", return_sequences=True),\n",
        "    Dropout(0.2),\n",
        "    TimeDistributed(Dense(X.shape[2]))\n",
        "])\n",
        "\n",
        "model.compile(optimizer=\"adam\", loss=\"mse\")\n",
        "model.fit(X, y, epochs=10, batch_size=25, verbose=2)\n",
        "\n",
        "reconstructed_data = model.predict(X)[:, 0, :]  # Add this index to select the first timestep only\n",
        "mse = np.mean(np.power(y - reconstructed_data, 2), axis=1)\n",
        "\n",
        "threshold = np.quantile(mse, 0.99)  # 99% quantile as the threshold for anomalies\n",
        "\n",
        "anomalies = data.iloc[window_size + 1:][mse > threshold]\n",
        "\n",
        "print(\"Anomaly Dates:\")\n",
        "print(anomalies.index)"
      ],
      "metadata": {
        "colab": {
          "base_uri": "https://localhost:8080/"
        },
        "id": "kkm8Gnz3NPWe",
        "outputId": "2a21c21d-3c3b-43c7-e1c4-7184293038e0"
      },
      "execution_count": null,
      "outputs": [
        {
          "output_type": "stream",
          "name": "stdout",
          "text": [
            "Epoch 1/10\n",
            "124/124 - 16s - loss: 0.0476 - 16s/epoch - 127ms/step\n",
            "Epoch 2/10\n",
            "124/124 - 9s - loss: 0.0311 - 9s/epoch - 74ms/step\n",
            "Epoch 3/10\n",
            "124/124 - 9s - loss: 0.0310 - 9s/epoch - 74ms/step\n",
            "Epoch 4/10\n",
            "124/124 - 8s - loss: 0.0305 - 8s/epoch - 63ms/step\n",
            "Epoch 5/10\n",
            "124/124 - 9s - loss: 0.0305 - 9s/epoch - 73ms/step\n",
            "Epoch 6/10\n",
            "124/124 - 9s - loss: 0.0306 - 9s/epoch - 74ms/step\n",
            "Epoch 7/10\n",
            "124/124 - 8s - loss: 0.0303 - 8s/epoch - 64ms/step\n",
            "Epoch 8/10\n",
            "124/124 - 9s - loss: 0.0301 - 9s/epoch - 73ms/step\n",
            "Epoch 9/10\n",
            "124/124 - 9s - loss: 0.0301 - 9s/epoch - 74ms/step\n",
            "Epoch 10/10\n",
            "124/124 - 8s - loss: 0.0301 - 8s/epoch - 64ms/step\n",
            "97/97 [==============================] - 3s 24ms/step\n",
            "Anomaly Dates:\n",
            "DatetimeIndex(['2014-05-06', '2014-05-07', '2014-08-05', '2014-08-06',\n",
            "               '2014-08-28', '2014-08-31', '2014-09-01', '2014-09-02',\n",
            "               '2014-10-16', '2014-10-19', '2015-02-02', '2015-02-08',\n",
            "               '2015-02-09', '2015-02-10', '2015-02-11', '2015-02-12',\n",
            "               '2015-02-15', '2015-02-16', '2023-02-13', '2023-02-14',\n",
            "               '2023-02-15', '2023-02-16', '2023-02-20', '2023-02-21',\n",
            "               '2023-02-22', '2023-02-23', '2023-02-27', '2023-02-28',\n",
            "               '2023-03-01', '2023-03-02', '2023-03-06'],\n",
            "              dtype='datetime64[ns]', name='Date', freq=None)\n"
          ]
        }
      ]
    },
    {
      "cell_type": "code",
      "source": [
        "!pip install pmdarima"
      ],
      "metadata": {
        "colab": {
          "base_uri": "https://localhost:8080/"
        },
        "id": "8BOwbBX17IKz",
        "outputId": "883619b0-202f-41dd-9e5b-d133e04c146d"
      },
      "execution_count": null,
      "outputs": [
        {
          "output_type": "stream",
          "name": "stdout",
          "text": [
            "Looking in indexes: https://pypi.org/simple, https://us-python.pkg.dev/colab-wheels/public/simple/\n",
            "Collecting pmdarima\n",
            "  Downloading pmdarima-2.0.3-cp39-cp39-manylinux_2_17_x86_64.manylinux2014_x86_64.manylinux_2_28_x86_64.whl (1.9 MB)\n",
            "\u001b[2K     \u001b[90m━━━━━━━━━━━━━━━━━━━━━━━━━━━━━━━━━━━━━━━━\u001b[0m \u001b[32m1.9/1.9 MB\u001b[0m \u001b[31m19.0 MB/s\u001b[0m eta \u001b[36m0:00:00\u001b[0m\n",
            "\u001b[?25hRequirement already satisfied: joblib>=0.11 in /usr/local/lib/python3.9/dist-packages (from pmdarima) (1.1.1)\n",
            "Requirement already satisfied: pandas>=0.19 in /usr/local/lib/python3.9/dist-packages (from pmdarima) (1.4.4)\n",
            "Requirement already satisfied: scikit-learn>=0.22 in /usr/local/lib/python3.9/dist-packages (from pmdarima) (1.2.2)\n",
            "Requirement already satisfied: Cython!=0.29.18,!=0.29.31,>=0.29 in /usr/local/lib/python3.9/dist-packages (from pmdarima) (0.29.33)\n",
            "Requirement already satisfied: urllib3 in /usr/local/lib/python3.9/dist-packages (from pmdarima) (1.26.15)\n",
            "Requirement already satisfied: numpy>=1.21.2 in /usr/local/lib/python3.9/dist-packages (from pmdarima) (1.22.4)\n",
            "Requirement already satisfied: statsmodels>=0.13.2 in /usr/local/lib/python3.9/dist-packages (from pmdarima) (0.13.5)\n",
            "Requirement already satisfied: scipy>=1.3.2 in /usr/local/lib/python3.9/dist-packages (from pmdarima) (1.10.1)\n",
            "Requirement already satisfied: setuptools!=50.0.0,>=38.6.0 in /usr/local/lib/python3.9/dist-packages (from pmdarima) (63.4.3)\n",
            "Requirement already satisfied: python-dateutil>=2.8.1 in /usr/local/lib/python3.9/dist-packages (from pandas>=0.19->pmdarima) (2.8.2)\n",
            "Requirement already satisfied: pytz>=2020.1 in /usr/local/lib/python3.9/dist-packages (from pandas>=0.19->pmdarima) (2022.7.1)\n",
            "Requirement already satisfied: threadpoolctl>=2.0.0 in /usr/local/lib/python3.9/dist-packages (from scikit-learn>=0.22->pmdarima) (3.1.0)\n",
            "Requirement already satisfied: packaging>=21.3 in /usr/local/lib/python3.9/dist-packages (from statsmodels>=0.13.2->pmdarima) (23.0)\n",
            "Requirement already satisfied: patsy>=0.5.2 in /usr/local/lib/python3.9/dist-packages (from statsmodels>=0.13.2->pmdarima) (0.5.3)\n",
            "Requirement already satisfied: six in /usr/local/lib/python3.9/dist-packages (from patsy>=0.5.2->statsmodels>=0.13.2->pmdarima) (1.16.0)\n",
            "Installing collected packages: pmdarima\n",
            "Successfully installed pmdarima-2.0.3\n"
          ]
        }
      ]
    },
    {
      "cell_type": "code",
      "source": [
        "import numpy as np\n",
        "import pandas as pd\n",
        "import matplotlib.pyplot as plt\n",
        "import pmdarima as pm\n",
        "from sklearn.metrics import mean_squared_error\n",
        "\n",
        "# Install pmdarima if you don't have it already\n",
        "# !pip install pmdarima\n",
        "\n",
        "# Load the data\n",
        "data = pd.read_csv(\"/content/MASQ.AE.csv\")\n",
        "\n",
        "# Convert the date column to a datetime object and set it as the index\n",
        "data[\"Date\"] = pd.to_datetime(data[\"Date\"])\n",
        "data.set_index(\"Date\", inplace=True)\n",
        "# Drop rows with NaN values\n",
        "data.dropna(inplace=True)\n",
        "\n",
        "# Use the 'Close' price for prediction\n",
        "close_price = data['Close']\n",
        "\n",
        "# Split the data into train and test sets\n",
        "train_size = int(len(close_price) * 0.8)\n",
        "train_data, test_data = close_price[:train_size], close_price[train_size:]\n",
        "\n",
        "# Use auto_arima to find the optimal ARIMA parameters\n",
        "auto_model = pm.auto_arima(close_price, seasonal=False, suppress_warnings=True)\n",
        "\n",
        "# Display the optimal ARIMA model's parameters\n",
        "print(\"Optimal ARIMA Model Parameters:\")\n",
        "print(auto_model.get_params())\n",
        "\n",
        "# Forecast the next 90 days\n",
        "forecast_steps = 90\n",
        "forecast, conf_int = auto_model.predict(n_periods=forecast_steps, return_conf_int=True)\n",
        "\n",
        "# Print the forecasted stock prices\n",
        "print(\"\\nForecasted stock prices for the next 90 days:\")\n",
        "print(forecast)\n",
        "\n",
        "# Plot the forecasted stock prices\n",
        "# Plot the forecasted stock prices\n",
        "# Plot the forecasted stock prices\n",
        "plt.figure(figsize=(12, 6))\n",
        "plt.plot(close_price.index, close_price, label=\"Historical Close Price\")\n",
        "\n",
        "# Generate forecast dates starting from the day after the last date in the dataset\n",
        "forecast_dates = pd.date_range(close_price.index[-1] + pd.Timedelta(days=1), periods=forecast_steps)\n",
        "plt.plot(forecast_dates, forecast, label=\"Forecasted Close Price\")\n",
        "plt.fill_between(forecast_dates, conf_int[:, 0], conf_int[:, 1], color='cyan', label=\"Confidence Interval\")\n",
        "\n",
        "plt.xlabel(\"Date\")\n",
        "plt.ylabel(\"Stock Price\")\n",
        "plt.legend()\n",
        "plt.show()\n"
      ],
      "metadata": {
        "colab": {
          "base_uri": "https://localhost:8080/",
          "height": 736
        },
        "id": "V4xh6JkZxECn",
        "outputId": "0c51ca82-c5b9-4ea1-f6f2-60103716115b"
      },
      "execution_count": null,
      "outputs": [
        {
          "output_type": "stream",
          "name": "stdout",
          "text": [
            "Optimal ARIMA Model Parameters:\n",
            "{'maxiter': 50, 'method': 'lbfgs', 'order': (1, 1, 1), 'out_of_sample_size': 0, 'scoring': 'mse', 'scoring_args': {}, 'seasonal_order': (0, 0, 0, 0), 'start_params': None, 'suppress_warnings': True, 'trend': None, 'with_intercept': False}\n",
            "\n",
            "Forecasted stock prices for the next 90 days:\n",
            "3099    115.284754\n",
            "3100    115.530282\n",
            "3101    115.741987\n",
            "3102    115.924528\n",
            "3103    116.081924\n",
            "           ...    \n",
            "3184    117.067089\n",
            "3185    117.067090\n",
            "3186    117.067090\n",
            "3187    117.067091\n",
            "3188    117.067092\n",
            "Length: 90, dtype: float64\n"
          ]
        },
        {
          "output_type": "stream",
          "name": "stderr",
          "text": [
            "/usr/local/lib/python3.9/dist-packages/statsmodels/tsa/base/tsa_model.py:834: ValueWarning: No supported index is available. Prediction results will be given with an integer index beginning at `start`.\n",
            "  return get_prediction_index(\n"
          ]
        },
        {
          "output_type": "display_data",
          "data": {
            "text/plain": [
              "<Figure size 864x432 with 1 Axes>"
            ],
            "image/png": "[encoded data removed]"
          },
          "metadata": {
            "needs_background": "light"
          }
        }
      ]
    },
    {
      "cell_type": "code",
      "source": [
        "import numpy as np\n",
        "import pandas as pd\n",
        "import matplotlib.pyplot as plt\n",
        "from sklearn.preprocessing import MinMaxScaler\n",
        "from tensorflow.keras.models import Sequential\n",
        "from tensorflow.keras.layers import LSTM, Dense\n",
        "from tensorflow.keras.callbacks import EarlyStopping\n",
        "\n",
        "# Load the data\n",
        "data = pd.read_csv(\"/content/MASQ.AE.csv\")\n",
        "\n",
        "# Convert the date column to a datetime object and set it as the index\n",
        "data[\"Date\"] = pd.to_datetime(data[\"Date\"])\n",
        "data.set_index(\"Date\", inplace=True)\n",
        "# Drop rows with NaN values\n",
        "data.dropna(inplace=True)\n",
        "\n",
        "# Use the 'Close', 'High', and 'Low' prices for prediction\n",
        "prices = data[['Close', 'High', 'Low']]\n",
        "\n",
        "# Scale the data\n",
        "scaler = MinMaxScaler()\n",
        "scaled_prices = scaler.fit_transform(prices)\n",
        "\n",
        "def create_dataset(dataset, look_back=1):\n",
        "    X, Y = [], []\n",
        "    for i in range(len(dataset) - look_back - 1):\n",
        "        a = dataset[i:(i + look_back), :]\n",
        "        X.append(a)\n",
        "        Y.append(dataset[i + look_back, :])\n",
        "    return np.array(X), np.array(Y)\n",
        "\n",
        "look_back = 10\n",
        "X, Y = create_dataset(scaled_prices, look_back)\n",
        "\n",
        "# Split the data into train and test sets\n",
        "train_size = int(len(X) * 0.8)\n",
        "X_train, X_test = X[0:train_size], X[train_size:]\n",
        "Y_train, Y_test = Y[0:train_size], Y[train_size:]\n",
        "\n",
        "# Define the LSTM model\n",
        "model = Sequential()\n",
        "model.add(LSTM(50, input_shape=(X_train.shape[1], X_train.shape[2])))\n",
        "model.add(Dense(3))\n",
        "model.compile(loss='mean_squared_error', optimizer='adam')\n",
        "\n",
        "# Train the model\n",
        "early_stop = EarlyStopping(monitor='val_loss', patience=5, verbose=1)\n",
        "history = model.fit(X_train, Y_train, epochs=20, batch_size=1, validation_data=(X_test, Y_test), callbacks=[early_stop], verbose=1, shuffle=False)\n",
        "\n",
        "# Forecast the next 90 days\n",
        "forecast = []\n",
        "current_batch = X[-1].reshape((1, look_back, 3))\n",
        "\n",
        "for i in range(90):\n",
        "    current_pred = model.predict(current_batch)[0]\n",
        "    forecast.append(current_pred)\n",
        "    current_batch = np.append(current_batch[:, 1:, :], [[current_pred]], axis=1)\n",
        "\n",
        "# Inverse transform the forecasted prices\n",
        "forecast = scaler.inverse_transform(forecast)\n",
        "\n",
        "# Print the forecasted stock prices\n",
        "print(\"\\nForecasted stock prices (Close, High, Low) for the next 90 days:\")\n",
        "print(forecast)\n"
      ],
      "metadata": {
        "colab": {
          "base_uri": "https://localhost:8080/"
        },
        "id": "Vzn9XPixPn-T",
        "outputId": "b8e52d7f-5f8d-4f09-e5d5-046a3e709d63"
      },
      "execution_count": null,
      "outputs": [
        {
          "output_type": "stream",
          "name": "stdout",
          "text": [
            "Epoch 1/20\n",
            "2470/2470 [==============================] - 23s 7ms/step - loss: 0.0022 - val_loss: 0.0129\n",
            "Epoch 2/20\n",
            "2470/2470 [==============================] - 15s 6ms/step - loss: 0.0013 - val_loss: 0.0128\n",
            "Epoch 3/20\n",
            "2470/2470 [==============================] - 15s 6ms/step - loss: 0.0010 - val_loss: 0.0095\n",
            "Epoch 4/20\n",
            "2470/2470 [==============================] - 16s 6ms/step - loss: 8.3348e-04 - val_loss: 0.0075\n",
            "Epoch 5/20\n",
            "2470/2470 [==============================] - 15s 6ms/step - loss: 7.3411e-04 - val_loss: 0.0063\n",
            "Epoch 6/20\n",
            "2470/2470 [==============================] - 15s 6ms/step - loss: 6.5423e-04 - val_loss: 0.0053\n",
            "Epoch 7/20\n",
            "2470/2470 [==============================] - 15s 6ms/step - loss: 6.0143e-04 - val_loss: 0.0047\n",
            "Epoch 8/20\n",
            "2470/2470 [==============================] - 15s 6ms/step - loss: 5.5873e-04 - val_loss: 0.0043\n",
            "Epoch 9/20\n",
            "2470/2470 [==============================] - 15s 6ms/step - loss: 5.6103e-04 - val_loss: 0.0041\n",
            "Epoch 10/20\n",
            "2470/2470 [==============================] - 15s 6ms/step - loss: 5.3428e-04 - val_loss: 0.0040\n",
            "Epoch 11/20\n",
            "2470/2470 [==============================] - 15s 6ms/step - loss: 5.3151e-04 - val_loss: 0.0038\n",
            "Epoch 12/20\n",
            "2470/2470 [==============================] - 16s 6ms/step - loss: 5.1085e-04 - val_loss: 0.0038\n",
            "Epoch 13/20\n",
            "2470/2470 [==============================] - 14s 6ms/step - loss: 5.0700e-04 - val_loss: 0.0036\n",
            "Epoch 14/20\n",
            "2470/2470 [==============================] - 15s 6ms/step - loss: 4.9838e-04 - val_loss: 0.0036\n",
            "Epoch 15/20\n",
            "2470/2470 [==============================] - 14s 6ms/step - loss: 4.9421e-04 - val_loss: 0.0035\n",
            "Epoch 16/20\n",
            "2470/2470 [==============================] - 14s 6ms/step - loss: 4.8978e-04 - val_loss: 0.0035\n",
            "Epoch 17/20\n",
            "2470/2470 [==============================] - 15s 6ms/step - loss: 4.8738e-04 - val_loss: 0.0034\n",
            "Epoch 18/20\n",
            "2470/2470 [==============================] - 16s 6ms/step - loss: 4.8334e-04 - val_loss: 0.0034\n",
            "Epoch 19/20\n",
            "2470/2470 [==============================] - 15s 6ms/step - loss: 4.7796e-04 - val_loss: 0.0034\n",
            "Epoch 20/20\n",
            "2470/2470 [==============================] - 14s 6ms/step - loss: 4.7625e-04 - val_loss: 0.0034\n",
            "1/1 [==============================] - 1s 592ms/step\n",
            "1/1 [==============================] - 0s 28ms/step\n",
            "1/1 [==============================] - 0s 30ms/step\n",
            "1/1 [==============================] - 0s 28ms/step\n",
            "1/1 [==============================] - 0s 29ms/step\n",
            "1/1 [==============================] - 0s 37ms/step\n",
            "1/1 [==============================] - 0s 31ms/step\n",
            "1/1 [==============================] - 0s 31ms/step\n",
            "1/1 [==============================] - 0s 34ms/step\n",
            "1/1 [==============================] - 0s 28ms/step\n",
            "1/1 [==============================] - 0s 29ms/step\n",
            "1/1 [==============================] - 0s 34ms/step\n",
            "1/1 [==============================] - 0s 32ms/step\n",
            "1/1 [==============================] - 0s 28ms/step\n",
            "1/1 [==============================] - 0s 34ms/step\n",
            "1/1 [==============================] - 0s 33ms/step\n",
            "1/1 [==============================] - 0s 31ms/step\n",
            "1/1 [==============================] - 0s 43ms/step\n",
            "1/1 [==============================] - 0s 29ms/step\n",
            "1/1 [==============================] - 0s 28ms/step\n",
            "1/1 [==============================] - 0s 25ms/step\n",
            "1/1 [==============================] - 0s 25ms/step\n",
            "1/1 [==============================] - 0s 25ms/step\n",
            "1/1 [==============================] - 0s 32ms/step\n",
            "1/1 [==============================] - 0s 35ms/step\n",
            "1/1 [==============================] - 0s 28ms/step\n",
            "1/1 [==============================] - 0s 26ms/step\n",
            "1/1 [==============================] - 0s 25ms/step\n",
            "1/1 [==============================] - 0s 27ms/step\n",
            "1/1 [==============================] - 0s 33ms/step\n",
            "1/1 [==============================] - 0s 29ms/step\n",
            "1/1 [==============================] - 0s 26ms/step\n",
            "1/1 [==============================] - 0s 36ms/step\n",
            "1/1 [==============================] - 0s 28ms/step\n",
            "1/1 [==============================] - 0s 30ms/step\n",
            "1/1 [==============================] - 0s 26ms/step\n",
            "1/1 [==============================] - 0s 25ms/step\n",
            "1/1 [==============================] - 0s 25ms/step\n",
            "1/1 [==============================] - 0s 31ms/step\n",
            "1/1 [==============================] - 0s 27ms/step\n",
            "1/1 [==============================] - 0s 26ms/step\n",
            "1/1 [==============================] - 0s 29ms/step\n",
            "1/1 [==============================] - 0s 35ms/step\n",
            "1/1 [==============================] - 0s 27ms/step\n",
            "1/1 [==============================] - 0s 26ms/step\n",
            "1/1 [==============================] - 0s 24ms/step\n",
            "1/1 [==============================] - 0s 25ms/step\n",
            "1/1 [==============================] - 0s 30ms/step\n",
            "1/1 [==============================] - 0s 25ms/step\n",
            "1/1 [==============================] - 0s 25ms/step\n",
            "1/1 [==============================] - 0s 25ms/step\n",
            "1/1 [==============================] - 0s 26ms/step\n",
            "1/1 [==============================] - 0s 27ms/step\n",
            "1/1 [==============================] - 0s 26ms/step\n",
            "1/1 [==============================] - 0s 26ms/step\n",
            "1/1 [==============================] - 0s 27ms/step\n",
            "1/1 [==============================] - 0s 25ms/step\n",
            "1/1 [==============================] - 0s 25ms/step\n",
            "1/1 [==============================] - 0s 26ms/step\n",
            "1/1 [==============================] - 0s 29ms/step\n",
            "1/1 [==============================] - 0s 27ms/step\n",
            "1/1 [==============================] - 0s 26ms/step\n",
            "1/1 [==============================] - 0s 26ms/step\n",
            "1/1 [==============================] - 0s 29ms/step\n",
            "1/1 [==============================] - 0s 28ms/step\n",
            "1/1 [==============================] - 0s 26ms/step\n",
            "1/1 [==============================] - 0s 26ms/step\n",
            "1/1 [==============================] - 0s 26ms/step\n",
            "1/1 [==============================] - 0s 28ms/step\n",
            "1/1 [==============================] - 0s 28ms/step\n",
            "1/1 [==============================] - 0s 26ms/step\n",
            "1/1 [==============================] - 0s 27ms/step\n",
            "1/1 [==============================] - 0s 29ms/step\n",
            "1/1 [==============================] - 0s 44ms/step\n",
            "1/1 [==============================] - 0s 42ms/step\n",
            "1/1 [==============================] - 0s 37ms/step\n",
            "1/1 [==============================] - 0s 45ms/step\n",
            "1/1 [==============================] - 0s 44ms/step\n",
            "1/1 [==============================] - 0s 56ms/step\n",
            "1/1 [==============================] - 0s 41ms/step\n",
            "1/1 [==============================] - 0s 40ms/step\n",
            "1/1 [==============================] - 0s 37ms/step\n",
            "1/1 [==============================] - 0s 38ms/step\n",
            "1/1 [==============================] - 0s 38ms/step\n",
            "1/1 [==============================] - 0s 38ms/step\n",
            "1/1 [==============================] - 0s 37ms/step\n",
            "1/1 [==============================] - 0s 39ms/step\n",
            "1/1 [==============================] - 0s 37ms/step\n",
            "1/1 [==============================] - 0s 44ms/step\n",
            "1/1 [==============================] - 0s 46ms/step\n",
            "\n",
            "Forecasted stock prices (Close, High, Low) for the next 90 days:\n",
            "[[105.82019769 108.11824072 108.2840752 ]\n",
            " [ 87.62130599  90.46623455  90.40632832]\n",
            " [ 74.63249015  77.09326202  76.97762145]\n",
            " [ 66.56584646  68.35073848  68.25764012]\n",
            " [ 60.87793585  61.98831976  61.97106627]\n",
            " [ 56.62757426  57.2295493   57.27785283]\n",
            " [ 53.47973541  53.79721238  53.86386097]\n",
            " [ 51.35479754  51.57120122  51.60952821]\n",
            " [ 50.31180375  50.52302157  50.51292411]\n",
            " [ 50.45178516  50.65272859  50.61313964]\n",
            " [ 51.71348704  51.84782126  51.82068364]\n",
            " [ 53.925025    53.93701064  53.95315171]\n",
            " [ 56.82674896  56.69939615  56.76187327]\n",
            " [ 60.11927535  59.87709488  59.96545328]\n",
            " [ 63.54545085  63.23639755  63.32323945]\n",
            " [ 66.89003816  66.56459272  66.62996233]\n",
            " [ 69.95449709  69.65351953  69.68934677]\n",
            " [ 72.54159948  72.29416187  72.30204801]\n",
            " [ 74.46794659  74.29377161  74.28085381]\n",
            " [ 75.60213779  75.51316202  75.488292  ]\n",
            " [ 75.90637385  75.90565962  75.8766759 ]\n",
            " [ 75.4533411   75.5332648   75.50568166]\n",
            " [ 74.40523501  74.54784883  74.52499743]\n",
            " [ 72.96738711  73.14803312  73.13194142]\n",
            " [ 71.34193173  71.53471971  71.5268061 ]\n",
            " [ 69.69881055  69.88164523  69.88285624]\n",
            " [ 68.16598793  68.3235608   68.33417845]\n",
            " [ 66.83205953  66.95634236  66.97581532]\n",
            " [ 65.7533548   65.84228152  65.86927289]\n",
            " [ 64.96080345  65.0161152   65.0488298 ]\n",
            " [ 64.46485229  64.49006199  64.52659771]\n",
            " [ 64.25861035  64.25765395  64.29625554]\n",
            " [ 64.32006206  64.29676209  64.33588668]\n",
            " [ 64.61417316  64.57229085  64.61058364]\n",
            " [ 65.0953921   65.03890937  65.07516314]\n",
            " [ 65.71065404  65.64400038  65.67714625]\n",
            " [ 66.40279881  66.33088189  66.3600844 ]\n",
            " [ 67.11429534  67.04224968  67.06700447]\n",
            " [ 67.79104271  67.72385874  67.74406262]\n",
            " [ 68.38607313  68.32814048  68.34411156]\n",
            " [ 68.86285952  68.81756851  68.82996396]\n",
            " [ 69.19778312  69.1672182   69.1769405 ]\n",
            " [ 69.38133817  69.36610629  69.37416334]\n",
            " [ 69.41771199  69.41700695  69.4243892 ]\n",
            " [ 69.32293345  69.33470145  69.34231658]\n",
            " [ 69.1218107   69.14311204  69.15170985]\n",
            " [ 68.84437527  68.8718043   68.88194517]\n",
            " [ 68.52237226  68.55248657  68.56454148]\n",
            " [ 68.18628688  68.21595365  68.23009383]\n",
            " [ 67.86310983  67.8897388   67.90596971]\n",
            " [ 67.57486587  67.59655038  67.61471159]\n",
            " [ 67.33785362  67.35337978  67.3732025 ]\n",
            " [ 67.16243716  67.17123787  67.19236497]\n",
            " [ 67.05324214  67.05530514  67.07733396]\n",
            " [ 67.00966161  67.00542218  67.02793661]\n",
            " [ 67.02658558  67.0168254   67.03943732]\n",
            " [ 67.09530224  67.08106354  67.10341397]\n",
            " [ 67.2044942   67.1869878   67.20878009]\n",
            " [ 67.34130831  67.32181861  67.34283393]\n",
            " [ 67.49239484  67.47220011  67.49229854]\n",
            " [ 67.64490984  67.62521782  67.64434106]\n",
            " [ 67.7874133   67.76924785  67.78742202]\n",
            " [ 67.91052515  67.89469552  67.9120166 ]\n",
            " [ 68.00743719  67.99449209  68.01109741]\n",
            " [ 68.07413377  68.06433374  68.08041762]\n",
            " [ 68.10937646  68.10271845  68.1184722 ]\n",
            " [ 68.11447725  68.11071296  68.12633704]\n",
            " [ 68.09287244  68.09155126  68.10723375]\n",
            " [ 68.04958312  68.0501257   68.06601713]\n",
            " [ 67.99062051  67.99238004  68.00859997]\n",
            " [ 67.92239125  67.92471174  67.94133911]\n",
            " [ 67.85116097  67.85342629  67.87049898]\n",
            " [ 67.78259452  67.78428048  67.80179866]\n",
            " [ 67.72141563  67.72210841  67.74004229]\n",
            " [ 67.67119855  67.67061919  67.68890448]\n",
            " [ 67.63424231  67.63223755  67.65080519]\n",
            " [ 67.61158607  67.60812832  67.62688584]\n",
            " [ 67.60308577  67.59825779  67.61711366]\n",
            " [ 67.60759188  67.60155921  67.62043066]\n",
            " [ 67.6231303   67.61613203  67.63493843]\n",
            " [ 67.64718128  67.63949024  67.65816934]\n",
            " [ 67.67690016  67.66881368  67.687319  ]\n",
            " [ 67.70939014  67.70118718  67.71949657]\n",
            " [ 67.74189851  67.73383962  67.75194236]\n",
            " [ 67.77202202  67.76432178  67.7822245 ]\n",
            " [ 67.79782333  67.79064727  67.80837008]\n",
            " [ 67.81793224  67.81138152  67.82895752]\n",
            " [ 67.83157012  67.82569378  67.84316131]\n",
            " [ 67.8385408   67.83332658  67.8507311 ]\n",
            " [ 67.8391692   67.83455274  67.85193213]]\n"
          ]
        }
      ]
    },
    {
      "cell_type": "code",
      "source": [
        "from sklearn.metrics import mean_squared_error\n",
        "from math import sqrt\n",
        "\n",
        "# Model 1: ARIMA\n",
        "train_pred_arima_full, _ = auto_model.predict_in_sample(return_conf_int=True)\n",
        "train_pred_arima = train_pred_arima_full[:train_size]  # Slice the predictions to match the training dataset size\n",
        "test_pred_arima, _ = auto_model.predict(n_periods=len(close_price) - train_size, return_conf_int=True)\n",
        "\n",
        "train_rmse_arima = sqrt(mean_squared_error(close_price[:train_size], train_pred_arima))\n",
        "test_rmse_arima = sqrt(mean_squared_error(close_price[train_size:], test_pred_arima))\n",
        "\n",
        "print(\"ARIMA Model:\")\n",
        "print(\"Training RMSE:\", train_rmse_arima)\n",
        "print(\"Test RMSE:\", test_rmse_arima)\n",
        "\n",
        "# Model 2: LSTM\n",
        "train_pred_lstm = model.predict(X_train)\n",
        "test_pred_lstm = model.predict(X_test)\n",
        "\n",
        "# Inverse transform the predictions\n",
        "train_pred_lstm_inv = scaler.inverse_transform(train_pred_lstm)[:, 0]  # Get 'Close' prices only\n",
        "test_pred_lstm_inv = scaler.inverse_transform(test_pred_lstm)[:, 0]  # Get 'Close' prices only\n",
        "\n",
        "train_rmse_lstm = sqrt(mean_squared_error(prices.iloc[look_back:train_size + look_back, 0], train_pred_lstm_inv))\n",
        "test_rmse_lstm = sqrt(mean_squared_error(prices.iloc[train_size + look_back +1:-1, 0], test_pred_lstm_inv[:-1]))\n",
        "\n",
        "print(\"\\nLSTM Model:\")\n",
        "print(\"Training RMSE:\", train_rmse_lstm)\n",
        "print(\"Test RMSE:\", test_rmse_lstm)\n"
      ],
      "metadata": {
        "colab": {
          "base_uri": "https://localhost:8080/"
        },
        "id": "bMzLK2xVhF_d",
        "outputId": "6edeb39b-7b1f-4f22-ecec-ce830438af96"
      },
      "execution_count": null,
      "outputs": [
        {
          "output_type": "stream",
          "name": "stdout",
          "text": [
            "ARIMA Model:\n",
            "Training RMSE: 2.5745107176352793\n",
            "Test RMSE: 44.13011348590641\n",
            " 9/78 [==>...........................] - ETA: 0s"
          ]
        },
        {
          "output_type": "stream",
          "name": "stderr",
          "text": [
            "/usr/local/lib/python3.9/dist-packages/statsmodels/tsa/base/tsa_model.py:834: ValueWarning: No supported index is available. Prediction results will be given with an integer index beginning at `start`.\n",
            "  return get_prediction_index(\n"
          ]
        },
        {
          "output_type": "stream",
          "name": "stdout",
          "text": [
            "78/78 [==============================] - 0s 6ms/step\n",
            "20/20 [==============================] - 0s 5ms/step\n",
            "\n",
            "LSTM Model:\n",
            "Training RMSE: 9.189354269885438\n",
            "Test RMSE: 6.4496826809942505\n"
          ]
        }
      ]
    }
  ]
}